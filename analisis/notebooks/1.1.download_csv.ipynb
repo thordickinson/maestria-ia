{
  "cells": [
    {
      "cell_type": "markdown",
      "metadata": {
        "id": "V45pLWtQOXVr"
      },
      "source": [
        "## Preparación\n",
        "\n",
        "Este script descarga los datos del repositorio que están en JSON (mongodb), los prepara y limpia en formato csv."
      ]
    },
    {
      "cell_type": "code",
      "execution_count": null,
      "metadata": {
        "colab": {
          "base_uri": "https://localhost:8080/"
        },
        "id": "0nO40ysKCJG9",
        "outputId": "19341519-69f5-4394-8291-58b66c09bb6d"
      },
      "outputs": [
        {
          "name": "stdout",
          "output_type": "stream",
          "text": [
            "/home/roman-arismendi/Workspace/maestria-ia/indexador-py/.venv/bin/python: No module named pip\n",
            "Note: you may need to restart the kernel to use updated packages.\n"
          ]
        }
      ],
      "source": [
        "%pip install python-geohash"
      ]
    },
    {
      "cell_type": "code",
      "execution_count": null,
      "metadata": {
        "id": "tu1DypuGMKv6"
      },
      "outputs": [],
      "source": [
        "import pandas as pd\n",
        "import seaborn as sns\n",
        "import matplotlib.pyplot as plt\n",
        "import plotly.express as px\n",
        "import numpy as np\n",
        "import geohash\n",
        "import requests\n",
        "import os"
      ]
    },
    {
      "cell_type": "code",
      "execution_count": null,
      "metadata": {
        "id": "GHopddWSMaVM"
      },
      "outputs": [],
      "source": [
        "def print_cols(dataset, cols = 5):\n",
        "    column_list = dataset.columns.to_list()\n",
        "    start = 0\n",
        "    end = len(column_list)\n",
        "    for i in range(start, end, cols):\n",
        "        x = i\n",
        "        print(column_list[x:x+cols])\n",
        "\n",
        "random_state = 42\n"
      ]
    },
    {
      "cell_type": "markdown",
      "metadata": {
        "id": "q8M0AEh8Mfit"
      },
      "source": [
        "## Carga de Datos\n",
        "Los datos han sido descargados desde el repositorio de [apartamentos de Bogota](https://github.com/builker-col/bogota-apartments/tree/master)"
      ]
    },
    {
      "cell_type": "code",
      "execution_count": null,
      "metadata": {
        "id": "VcZTDaOjNAxD"
      },
      "outputs": [],
      "source": [
        "url = \"https://github.com/builker-col/bogota-apartments/releases/download/v2.0.0-august.2-2024/raw_v2.0.0_august_2_2024.json\"\n",
        "file_path = \"../data/raw_data.json\"\n",
        "if not os.path.exists(file_path):\n",
        "    os.makedirs(os.path.dirname(file_path), exist_ok=True)\n",
        "    response = requests.get(url)\n",
        "    with open(file_path, \"wb\") as f:\n",
        "        f.write(response.content)"
      ]
    },
    {
      "cell_type": "code",
      "execution_count": null,
      "metadata": {
        "colab": {
          "base_uri": "https://localhost:8080/",
          "height": 464
        },
        "id": "RwAyYseNNZDB",
        "outputId": "a38e6b78-4348-4f6a-98ca-4061a45f8feb"
      },
      "outputs": [
        {
          "data": {
            "text/html": [
              "<div>\n",
              "<style scoped>\n",
              "    .dataframe tbody tr th:only-of-type {\n",
              "        vertical-align: middle;\n",
              "    }\n",
              "\n",
              "    .dataframe tbody tr th {\n",
              "        vertical-align: top;\n",
              "    }\n",
              "\n",
              "    .dataframe thead th {\n",
              "        text-align: right;\n",
              "    }\n",
              "</style>\n",
              "<table border=\"1\" class=\"dataframe\">\n",
              "  <thead>\n",
              "    <tr style=\"text-align: right;\">\n",
              "      <th></th>\n",
              "      <th>_id</th>\n",
              "      <th>codigo</th>\n",
              "      <th>tipo_propiedad</th>\n",
              "      <th>tipo_operacion</th>\n",
              "      <th>precio_venta</th>\n",
              "      <th>area</th>\n",
              "      <th>habitaciones</th>\n",
              "      <th>banos</th>\n",
              "      <th>administracion</th>\n",
              "      <th>parqueaderos</th>\n",
              "      <th>...</th>\n",
              "      <th>descripcion</th>\n",
              "      <th>imagenes</th>\n",
              "      <th>website</th>\n",
              "      <th>last_view</th>\n",
              "      <th>datetime</th>\n",
              "      <th>url</th>\n",
              "      <th>timeline</th>\n",
              "      <th>estado</th>\n",
              "      <th>compañia</th>\n",
              "      <th>precio_arriendo</th>\n",
              "    </tr>\n",
              "  </thead>\n",
              "  <tbody>\n",
              "    <tr>\n",
              "      <th>0</th>\n",
              "      <td>{'$oid': '668624b31d799b75dd9ce60d'}</td>\n",
              "      <td>4133491</td>\n",
              "      <td>APARTAMENTO</td>\n",
              "      <td>VENTA</td>\n",
              "      <td>339000000</td>\n",
              "      <td>76.0</td>\n",
              "      <td>3.0</td>\n",
              "      <td>2.0</td>\n",
              "      <td>300000</td>\n",
              "      <td>1.0</td>\n",
              "      <td>...</td>\n",
              "      <td>apartamento en venta de 76m2, con vista exteri...</td>\n",
              "      <td>[https://d3hzflklh28tts.cloudfront.net/venta-a...</td>\n",
              "      <td>habi.co</td>\n",
              "      <td>{'$date': '2024-08-13T10:34:47.315Z'}</td>\n",
              "      <td>{'$date': '2024-07-03T23:27:30.843Z'}</td>\n",
              "      <td>https://habi.co/page-data/venta-apartamentos/1...</td>\n",
              "      <td>[{'fecha': {'$date': '2024-07-03T23:27:30.843Z...</td>\n",
              "      <td>NaN</td>\n",
              "      <td>NaN</td>\n",
              "      <td>NaN</td>\n",
              "    </tr>\n",
              "    <tr>\n",
              "      <th>1</th>\n",
              "      <td>{'$oid': '668624b31d799b75dd9ce60e'}</td>\n",
              "      <td>3889852</td>\n",
              "      <td>APARTAMENTO</td>\n",
              "      <td>VENTA</td>\n",
              "      <td>223000000</td>\n",
              "      <td>63.0</td>\n",
              "      <td>3.0</td>\n",
              "      <td>2.0</td>\n",
              "      <td>NaN</td>\n",
              "      <td>0.0</td>\n",
              "      <td>...</td>\n",
              "      <td>apartamento en venta de 60m2, con vista interi...</td>\n",
              "      <td>[https://d3hzflklh28tts.cloudfront.net/venta-2...</td>\n",
              "      <td>habi.co</td>\n",
              "      <td>{'$date': '2024-09-08T21:28:24.710Z'}</td>\n",
              "      <td>{'$date': '2024-07-03T23:27:31.667Z'}</td>\n",
              "      <td>https://habi.co/page-data/venta-apartamentos/1...</td>\n",
              "      <td>[]</td>\n",
              "      <td>NaN</td>\n",
              "      <td>NaN</td>\n",
              "      <td>NaN</td>\n",
              "    </tr>\n",
              "    <tr>\n",
              "      <th>2</th>\n",
              "      <td>{'$oid': '668624b41d799b75dd9ce60f'}</td>\n",
              "      <td>4386770</td>\n",
              "      <td>APARTAMENTO</td>\n",
              "      <td>VENTA</td>\n",
              "      <td>440898168</td>\n",
              "      <td>54.0</td>\n",
              "      <td>3.0</td>\n",
              "      <td>2.0</td>\n",
              "      <td>305000</td>\n",
              "      <td>0.0</td>\n",
              "      <td>...</td>\n",
              "      <td>apartamento en venta de 54m2, con vista exteri...</td>\n",
              "      <td>[https://d3hzflklh28tts.cloudfront.net/venta-9...</td>\n",
              "      <td>habi.co</td>\n",
              "      <td>{'$date': '2024-07-10T18:19:39.749Z'}</td>\n",
              "      <td>{'$date': '2024-07-03T23:27:31.886Z'}</td>\n",
              "      <td>https://habi.co/page-data/venta-apartamentos/1...</td>\n",
              "      <td>[]</td>\n",
              "      <td>NaN</td>\n",
              "      <td>NaN</td>\n",
              "      <td>NaN</td>\n",
              "    </tr>\n",
              "    <tr>\n",
              "      <th>3</th>\n",
              "      <td>{'$oid': '668624b41d799b75dd9ce610'}</td>\n",
              "      <td>4210060</td>\n",
              "      <td>APARTAMENTO</td>\n",
              "      <td>VENTA</td>\n",
              "      <td>158000000</td>\n",
              "      <td>43.0</td>\n",
              "      <td>2.0</td>\n",
              "      <td>2.0</td>\n",
              "      <td>106600</td>\n",
              "      <td>0.0</td>\n",
              "      <td>...</td>\n",
              "      <td>apartamento en venta de 43 m2, con vista inter...</td>\n",
              "      <td>[https://d3hzflklh28tts.cloudfront.net/venta-b...</td>\n",
              "      <td>habi.co</td>\n",
              "      <td>{'$date': '2024-07-10T18:19:03.061Z'}</td>\n",
              "      <td>{'$date': '2024-07-03T23:27:32.141Z'}</td>\n",
              "      <td>https://habi.co/page-data/venta-apartamentos/1...</td>\n",
              "      <td>[]</td>\n",
              "      <td>NaN</td>\n",
              "      <td>NaN</td>\n",
              "      <td>NaN</td>\n",
              "    </tr>\n",
              "    <tr>\n",
              "      <th>4</th>\n",
              "      <td>{'$oid': '668624b41d799b75dd9ce611'}</td>\n",
              "      <td>4063762</td>\n",
              "      <td>APARTAMENTO</td>\n",
              "      <td>VENTA</td>\n",
              "      <td>222800000</td>\n",
              "      <td>48.0</td>\n",
              "      <td>3.0</td>\n",
              "      <td>2.0</td>\n",
              "      <td>151000</td>\n",
              "      <td>0.0</td>\n",
              "      <td>...</td>\n",
              "      <td>apartamento duplex en venta de 48m2, con vista...</td>\n",
              "      <td>[https://d3hzflklh28tts.cloudfront.net/venta-3...</td>\n",
              "      <td>habi.co</td>\n",
              "      <td>{'$date': '2024-09-08T21:28:24.703Z'}</td>\n",
              "      <td>{'$date': '2024-07-03T23:27:32.361Z'}</td>\n",
              "      <td>https://habi.co/page-data/venta-apartamentos/1...</td>\n",
              "      <td>[]</td>\n",
              "      <td>NaN</td>\n",
              "      <td>NaN</td>\n",
              "      <td>NaN</td>\n",
              "    </tr>\n",
              "  </tbody>\n",
              "</table>\n",
              "<p>5 rows × 27 columns</p>\n",
              "</div>"
            ],
            "text/plain": [
              "                                    _id   codigo tipo_propiedad  \\\n",
              "0  {'$oid': '668624b31d799b75dd9ce60d'}  4133491    APARTAMENTO   \n",
              "1  {'$oid': '668624b31d799b75dd9ce60e'}  3889852    APARTAMENTO   \n",
              "2  {'$oid': '668624b41d799b75dd9ce60f'}  4386770    APARTAMENTO   \n",
              "3  {'$oid': '668624b41d799b75dd9ce610'}  4210060    APARTAMENTO   \n",
              "4  {'$oid': '668624b41d799b75dd9ce611'}  4063762    APARTAMENTO   \n",
              "\n",
              "  tipo_operacion precio_venta  area  habitaciones  banos administracion  \\\n",
              "0          VENTA    339000000  76.0           3.0    2.0         300000   \n",
              "1          VENTA    223000000  63.0           3.0    2.0            NaN   \n",
              "2          VENTA    440898168  54.0           3.0    2.0         305000   \n",
              "3          VENTA    158000000  43.0           2.0    2.0         106600   \n",
              "4          VENTA    222800000  48.0           3.0    2.0         151000   \n",
              "\n",
              "   parqueaderos  ...                                        descripcion  \\\n",
              "0           1.0  ...  apartamento en venta de 76m2, con vista exteri...   \n",
              "1           0.0  ...  apartamento en venta de 60m2, con vista interi...   \n",
              "2           0.0  ...  apartamento en venta de 54m2, con vista exteri...   \n",
              "3           0.0  ...  apartamento en venta de 43 m2, con vista inter...   \n",
              "4           0.0  ...  apartamento duplex en venta de 48m2, con vista...   \n",
              "\n",
              "                                            imagenes  website  \\\n",
              "0  [https://d3hzflklh28tts.cloudfront.net/venta-a...  habi.co   \n",
              "1  [https://d3hzflklh28tts.cloudfront.net/venta-2...  habi.co   \n",
              "2  [https://d3hzflklh28tts.cloudfront.net/venta-9...  habi.co   \n",
              "3  [https://d3hzflklh28tts.cloudfront.net/venta-b...  habi.co   \n",
              "4  [https://d3hzflklh28tts.cloudfront.net/venta-3...  habi.co   \n",
              "\n",
              "                               last_view  \\\n",
              "0  {'$date': '2024-08-13T10:34:47.315Z'}   \n",
              "1  {'$date': '2024-09-08T21:28:24.710Z'}   \n",
              "2  {'$date': '2024-07-10T18:19:39.749Z'}   \n",
              "3  {'$date': '2024-07-10T18:19:03.061Z'}   \n",
              "4  {'$date': '2024-09-08T21:28:24.703Z'}   \n",
              "\n",
              "                                datetime  \\\n",
              "0  {'$date': '2024-07-03T23:27:30.843Z'}   \n",
              "1  {'$date': '2024-07-03T23:27:31.667Z'}   \n",
              "2  {'$date': '2024-07-03T23:27:31.886Z'}   \n",
              "3  {'$date': '2024-07-03T23:27:32.141Z'}   \n",
              "4  {'$date': '2024-07-03T23:27:32.361Z'}   \n",
              "\n",
              "                                                 url  \\\n",
              "0  https://habi.co/page-data/venta-apartamentos/1...   \n",
              "1  https://habi.co/page-data/venta-apartamentos/1...   \n",
              "2  https://habi.co/page-data/venta-apartamentos/1...   \n",
              "3  https://habi.co/page-data/venta-apartamentos/1...   \n",
              "4  https://habi.co/page-data/venta-apartamentos/1...   \n",
              "\n",
              "                                            timeline estado compañia  \\\n",
              "0  [{'fecha': {'$date': '2024-07-03T23:27:30.843Z...    NaN      NaN   \n",
              "1                                                 []    NaN      NaN   \n",
              "2                                                 []    NaN      NaN   \n",
              "3                                                 []    NaN      NaN   \n",
              "4                                                 []    NaN      NaN   \n",
              "\n",
              "  precio_arriendo  \n",
              "0             NaN  \n",
              "1             NaN  \n",
              "2             NaN  \n",
              "3             NaN  \n",
              "4             NaN  \n",
              "\n",
              "[5 rows x 27 columns]"
            ]
          },
          "execution_count": 5,
          "metadata": {},
          "output_type": "execute_result"
        }
      ],
      "source": [
        "raw_json_ds = pd.read_json(file_path)\n",
        "raw_json_ds.head()"
      ]
    },
    {
      "cell_type": "code",
      "execution_count": null,
      "metadata": {
        "colab": {
          "base_uri": "https://localhost:8080/"
        },
        "id": "SoIcYeXnOFms",
        "outputId": "af22c33f-5007-4704-fd0d-a8451ec3ade6"
      },
      "outputs": [
        {
          "name": "stdout",
          "output_type": "stream",
          "text": [
            "<class 'pandas.core.frame.DataFrame'>\n",
            "RangeIndex: 44436 entries, 0 to 44435\n",
            "Data columns (total 27 columns):\n",
            " #   Column           Non-Null Count  Dtype  \n",
            "---  ------           --------------  -----  \n",
            " 0   _id              44436 non-null  object \n",
            " 1   codigo           44436 non-null  object \n",
            " 2   tipo_propiedad   44436 non-null  object \n",
            " 3   tipo_operacion   44436 non-null  object \n",
            " 4   precio_venta     28741 non-null  object \n",
            " 5   area             44436 non-null  float64\n",
            " 6   habitaciones     44435 non-null  float64\n",
            " 7   banos            44435 non-null  float64\n",
            " 8   administracion   36277 non-null  object \n",
            " 9   parqueaderos     44435 non-null  float64\n",
            " 10  sector           41904 non-null  object \n",
            " 11  estrato          44434 non-null  float64\n",
            " 12  antiguedad       44426 non-null  object \n",
            " 13  latitud          43519 non-null  float64\n",
            " 14  longitud         43519 non-null  float64\n",
            " 15  direccion        817 non-null    object \n",
            " 16  caracteristicas  44435 non-null  object \n",
            " 17  descripcion      44436 non-null  object \n",
            " 18  imagenes         44423 non-null  object \n",
            " 19  website          44436 non-null  object \n",
            " 20  last_view        44436 non-null  object \n",
            " 21  datetime         44436 non-null  object \n",
            " 22  url              817 non-null    object \n",
            " 23  timeline         30522 non-null  object \n",
            " 24  estado           43619 non-null  object \n",
            " 25  compañia         39777 non-null  object \n",
            " 26  precio_arriendo  16113 non-null  object \n",
            "dtypes: float64(7), object(20)\n",
            "memory usage: 9.2+ MB\n"
          ]
        }
      ],
      "source": [
        "raw_json_ds.info()"
      ]
    },
    {
      "cell_type": "code",
      "execution_count": null,
      "metadata": {},
      "outputs": [
        {
          "data": {
            "text/plain": [
              "0               BRITALIA\n",
              "1    SAN CRISTOBAL NORTE\n",
              "2              LA SABANA\n",
              "3              TIBABUYES\n",
              "4               VERBENAL\n",
              "Name: sector, dtype: object"
            ]
          },
          "execution_count": 7,
          "metadata": {},
          "output_type": "execute_result"
        }
      ],
      "source": [
        "raw_json_ds[\"sector\"].head()"
      ]
    },
    {
      "cell_type": "code",
      "execution_count": null,
      "metadata": {
        "id": "zT0cMURPNol_"
      },
      "outputs": [],
      "source": [
        "# Se remueven columnas irrelevantes\n",
        "dropped_cols = [\"_id\", \"codigo\", \"datetime\", \"url\", \"direccion\", \"website\", \n",
        "                \"compañia\", \"timeline\", \"last_view\", \"descripcion\", \"website\", \"compañia\", \"imagenes\"]\n",
        "properties = raw_json_ds.drop(dropped_cols, axis=1)"
      ]
    },
    {
      "cell_type": "code",
      "execution_count": null,
      "metadata": {},
      "outputs": [
        {
          "name": "stdout",
          "output_type": "stream",
          "text": [
            "<class 'pandas.core.frame.DataFrame'>\n",
            "RangeIndex: 44436 entries, 0 to 44435\n",
            "Data columns (total 16 columns):\n",
            " #   Column           Non-Null Count  Dtype  \n",
            "---  ------           --------------  -----  \n",
            " 0   tipo_propiedad   44436 non-null  object \n",
            " 1   tipo_operacion   44436 non-null  object \n",
            " 2   precio_venta     28741 non-null  object \n",
            " 3   area             44436 non-null  float64\n",
            " 4   habitaciones     44435 non-null  float64\n",
            " 5   banos            44435 non-null  float64\n",
            " 6   administracion   36277 non-null  object \n",
            " 7   parqueaderos     44435 non-null  float64\n",
            " 8   sector           41904 non-null  object \n",
            " 9   estrato          44434 non-null  float64\n",
            " 10  antiguedad       44426 non-null  object \n",
            " 11  latitud          43519 non-null  float64\n",
            " 12  longitud         43519 non-null  float64\n",
            " 13  caracteristicas  44435 non-null  object \n",
            " 14  estado           43619 non-null  object \n",
            " 15  precio_arriendo  16113 non-null  object \n",
            "dtypes: float64(7), object(9)\n",
            "memory usage: 5.4+ MB\n"
          ]
        }
      ],
      "source": [
        "properties.info()"
      ]
    },
    {
      "cell_type": "code",
      "execution_count": null,
      "metadata": {
        "colab": {
          "base_uri": "https://localhost:8080/"
        },
        "id": "qxnS5wtFQnQt",
        "outputId": "9fd049d8-209f-4591-f45a-5a14bbbe3095"
      },
      "outputs": [
        {
          "name": "stdout",
          "output_type": "stream",
          "text": [
            "✅ Desempaquetando columna: precio_venta al tipo int\n",
            "✅ Desempaquetando columna: administracion al tipo int\n",
            "✅ Desempaquetando columna: precio_arriendo al tipo float\n"
          ]
        }
      ],
      "source": [
        "columns = properties.columns.tolist()\n",
        "\n",
        "def get_first_property(dictionary: dict, target_type):\n",
        "    # Si es un dict con una sola clave (caso típico: {'$numberLong': '123456'})\n",
        "    if isinstance(dictionary, dict) and len(dictionary) == 1:\n",
        "        value = next(iter(dictionary.values()))\n",
        "        if value in (\"NaN\", None):\n",
        "            return None if target_type == str else -1\n",
        "        # Si el target_type es int, intenta convertir\n",
        "        if target_type == int:\n",
        "            return int(value)\n",
        "        elif target_type == float:\n",
        "            return float(value)\n",
        "        else:\n",
        "            return str(value)\n",
        "    # Si no es dict, devuélvelo como está\n",
        "    return dictionary\n",
        "\n",
        "def unpack_dict(column_name: str, target_type):\n",
        "    print(f\"✅ Desempaquetando columna: {column_name} al tipo {target_type.__name__}\")\n",
        "    properties[column_name] = properties[column_name].apply(\n",
        "        lambda v: get_first_property(v, target_type) if isinstance(v, dict) else v\n",
        "    )\n",
        "    properties[column_name] = properties[column_name].astype(target_type, errors='ignore')\n",
        "\n",
        "for column in columns:\n",
        "    types = properties[column].apply(type).unique()\n",
        "    if dict in types:\n",
        "        # si también hay otro tipo, lo detectamos\n",
        "        other_types = [t for t in types if t != dict]\n",
        "        target_type = other_types[0] if other_types else str\n",
        "        unpack_dict(column, target_type)\n"
      ]
    },
    {
      "cell_type": "code",
      "execution_count": null,
      "metadata": {},
      "outputs": [
        {
          "name": "stdout",
          "output_type": "stream",
          "text": [
            "<class 'pandas.core.frame.DataFrame'>\n",
            "RangeIndex: 44436 entries, 0 to 44435\n",
            "Data columns (total 16 columns):\n",
            " #   Column           Non-Null Count  Dtype  \n",
            "---  ------           --------------  -----  \n",
            " 0   tipo_propiedad   44436 non-null  object \n",
            " 1   tipo_operacion   44436 non-null  object \n",
            " 2   precio_venta     28741 non-null  float64\n",
            " 3   area             44436 non-null  float64\n",
            " 4   habitaciones     44435 non-null  float64\n",
            " 5   banos            44435 non-null  float64\n",
            " 6   administracion   36277 non-null  float64\n",
            " 7   parqueaderos     44435 non-null  float64\n",
            " 8   sector           41904 non-null  object \n",
            " 9   estrato          44434 non-null  float64\n",
            " 10  antiguedad       44426 non-null  object \n",
            " 11  latitud          43519 non-null  float64\n",
            " 12  longitud         43519 non-null  float64\n",
            " 13  caracteristicas  44435 non-null  object \n",
            " 14  estado           43619 non-null  object \n",
            " 15  precio_arriendo  16113 non-null  float64\n",
            "dtypes: float64(10), object(6)\n",
            "memory usage: 5.4+ MB\n"
          ]
        }
      ],
      "source": [
        "properties.info()"
      ]
    },
    {
      "cell_type": "code",
      "execution_count": null,
      "metadata": {},
      "outputs": [
        {
          "data": {
            "text/plain": [
              "<Axes: >"
            ]
          },
          "execution_count": 12,
          "metadata": {},
          "output_type": "execute_result"
        },
        {
          "data": {
            "image/png": "[encoded data removed]",
            "text/plain": [
              "<Figure size 640x480 with 1 Axes>"
            ]
          },
          "metadata": {},
          "output_type": "display_data"
        }
      ],
      "source": [
        "properties[\"tipo_propiedad\"].hist()"
      ]
    },
    {
      "cell_type": "code",
      "execution_count": null,
      "metadata": {},
      "outputs": [
        {
          "data": {
            "text/html": [
              "<div>\n",
              "<style scoped>\n",
              "    .dataframe tbody tr th:only-of-type {\n",
              "        vertical-align: middle;\n",
              "    }\n",
              "\n",
              "    .dataframe tbody tr th {\n",
              "        vertical-align: top;\n",
              "    }\n",
              "\n",
              "    .dataframe thead th {\n",
              "        text-align: right;\n",
              "    }\n",
              "</style>\n",
              "<table border=\"1\" class=\"dataframe\">\n",
              "  <thead>\n",
              "    <tr style=\"text-align: right;\">\n",
              "      <th></th>\n",
              "      <th>tipo_propiedad</th>\n",
              "      <th>tipo_operacion</th>\n",
              "      <th>precio_venta</th>\n",
              "      <th>area</th>\n",
              "      <th>habitaciones</th>\n",
              "      <th>banos</th>\n",
              "      <th>administracion</th>\n",
              "      <th>parqueaderos</th>\n",
              "      <th>sector</th>\n",
              "      <th>estrato</th>\n",
              "      <th>antiguedad</th>\n",
              "      <th>latitud</th>\n",
              "      <th>longitud</th>\n",
              "      <th>caracteristicas</th>\n",
              "      <th>estado</th>\n",
              "      <th>precio_arriendo</th>\n",
              "    </tr>\n",
              "  </thead>\n",
              "  <tbody>\n",
              "    <tr>\n",
              "      <th>0</th>\n",
              "      <td>APARTAMENTO</td>\n",
              "      <td>VENTA</td>\n",
              "      <td>339000000.0</td>\n",
              "      <td>76.0</td>\n",
              "      <td>3.0</td>\n",
              "      <td>2.0</td>\n",
              "      <td>300000.0</td>\n",
              "      <td>1.0</td>\n",
              "      <td>BRITALIA</td>\n",
              "      <td>3.0</td>\n",
              "      <td>ENTRE 10 Y 20 ANOS</td>\n",
              "      <td>4.746592</td>\n",
              "      <td>-74.057571</td>\n",
              "      <td>[INTERIOR/BLOQUE/TORRE DEL INMUEBLE, BALCON, C...</td>\n",
              "      <td>NaN</td>\n",
              "      <td>NaN</td>\n",
              "    </tr>\n",
              "    <tr>\n",
              "      <th>1</th>\n",
              "      <td>APARTAMENTO</td>\n",
              "      <td>VENTA</td>\n",
              "      <td>223000000.0</td>\n",
              "      <td>63.0</td>\n",
              "      <td>3.0</td>\n",
              "      <td>2.0</td>\n",
              "      <td>NaN</td>\n",
              "      <td>0.0</td>\n",
              "      <td>SAN CRISTOBAL NORTE</td>\n",
              "      <td>3.0</td>\n",
              "      <td>MAS DE 20 ANOS</td>\n",
              "      <td>4.730111</td>\n",
              "      <td>-74.028170</td>\n",
              "      <td>[INSTALACION DE GAS, PORTERIA]</td>\n",
              "      <td>NaN</td>\n",
              "      <td>NaN</td>\n",
              "    </tr>\n",
              "    <tr>\n",
              "      <th>2</th>\n",
              "      <td>APARTAMENTO</td>\n",
              "      <td>VENTA</td>\n",
              "      <td>440898168.0</td>\n",
              "      <td>54.0</td>\n",
              "      <td>3.0</td>\n",
              "      <td>2.0</td>\n",
              "      <td>305000.0</td>\n",
              "      <td>0.0</td>\n",
              "      <td>LA SABANA</td>\n",
              "      <td>3.0</td>\n",
              "      <td>ENTRE 0 Y 5 ANOS</td>\n",
              "      <td>4.607378</td>\n",
              "      <td>-74.082648</td>\n",
              "      <td>[INTERIOR/BLOQUE/TORRE DEL INMUEBLE, BALCON, C...</td>\n",
              "      <td>NaN</td>\n",
              "      <td>NaN</td>\n",
              "    </tr>\n",
              "    <tr>\n",
              "      <th>3</th>\n",
              "      <td>APARTAMENTO</td>\n",
              "      <td>VENTA</td>\n",
              "      <td>158000000.0</td>\n",
              "      <td>43.0</td>\n",
              "      <td>2.0</td>\n",
              "      <td>2.0</td>\n",
              "      <td>106600.0</td>\n",
              "      <td>0.0</td>\n",
              "      <td>TIBABUYES</td>\n",
              "      <td>2.0</td>\n",
              "      <td>ENTRE 10 Y 20 ANOS</td>\n",
              "      <td>4.740109</td>\n",
              "      <td>-74.113675</td>\n",
              "      <td>[INTERIOR/BLOQUE/TORRE DEL INMUEBLE, CONJUNTO ...</td>\n",
              "      <td>NaN</td>\n",
              "      <td>NaN</td>\n",
              "    </tr>\n",
              "    <tr>\n",
              "      <th>4</th>\n",
              "      <td>APARTAMENTO</td>\n",
              "      <td>VENTA</td>\n",
              "      <td>222800000.0</td>\n",
              "      <td>48.0</td>\n",
              "      <td>3.0</td>\n",
              "      <td>2.0</td>\n",
              "      <td>151000.0</td>\n",
              "      <td>0.0</td>\n",
              "      <td>VERBENAL</td>\n",
              "      <td>3.0</td>\n",
              "      <td>MAS DE 20 ANOS</td>\n",
              "      <td>4.763900</td>\n",
              "      <td>-74.025280</td>\n",
              "      <td>[INTERIOR/BLOQUE/TORRE DEL INMUEBLE, CONJUNTO ...</td>\n",
              "      <td>NaN</td>\n",
              "      <td>NaN</td>\n",
              "    </tr>\n",
              "  </tbody>\n",
              "</table>\n",
              "</div>"
            ],
            "text/plain": [
              "  tipo_propiedad tipo_operacion  precio_venta  area  habitaciones  banos  \\\n",
              "0    APARTAMENTO          VENTA   339000000.0  76.0           3.0    2.0   \n",
              "1    APARTAMENTO          VENTA   223000000.0  63.0           3.0    2.0   \n",
              "2    APARTAMENTO          VENTA   440898168.0  54.0           3.0    2.0   \n",
              "3    APARTAMENTO          VENTA   158000000.0  43.0           2.0    2.0   \n",
              "4    APARTAMENTO          VENTA   222800000.0  48.0           3.0    2.0   \n",
              "\n",
              "   administracion  parqueaderos               sector  estrato  \\\n",
              "0        300000.0           1.0             BRITALIA      3.0   \n",
              "1             NaN           0.0  SAN CRISTOBAL NORTE      3.0   \n",
              "2        305000.0           0.0            LA SABANA      3.0   \n",
              "3        106600.0           0.0            TIBABUYES      2.0   \n",
              "4        151000.0           0.0             VERBENAL      3.0   \n",
              "\n",
              "           antiguedad   latitud   longitud  \\\n",
              "0  ENTRE 10 Y 20 ANOS  4.746592 -74.057571   \n",
              "1      MAS DE 20 ANOS  4.730111 -74.028170   \n",
              "2    ENTRE 0 Y 5 ANOS  4.607378 -74.082648   \n",
              "3  ENTRE 10 Y 20 ANOS  4.740109 -74.113675   \n",
              "4      MAS DE 20 ANOS  4.763900 -74.025280   \n",
              "\n",
              "                                     caracteristicas estado  precio_arriendo  \n",
              "0  [INTERIOR/BLOQUE/TORRE DEL INMUEBLE, BALCON, C...    NaN              NaN  \n",
              "1                     [INSTALACION DE GAS, PORTERIA]    NaN              NaN  \n",
              "2  [INTERIOR/BLOQUE/TORRE DEL INMUEBLE, BALCON, C...    NaN              NaN  \n",
              "3  [INTERIOR/BLOQUE/TORRE DEL INMUEBLE, CONJUNTO ...    NaN              NaN  \n",
              "4  [INTERIOR/BLOQUE/TORRE DEL INMUEBLE, CONJUNTO ...    NaN              NaN  "
            ]
          },
          "execution_count": 13,
          "metadata": {},
          "output_type": "execute_result"
        }
      ],
      "source": [
        "apartamentos = properties[properties[\"tipo_propiedad\"] == \"APARTAMENTO\"]\n",
        "apartamentos.head()"
      ]
    },
    {
      "cell_type": "code",
      "execution_count": null,
      "metadata": {},
      "outputs": [
        {
          "data": {
            "text/plain": [
              "<Axes: >"
            ]
          },
          "execution_count": 14,
          "metadata": {},
          "output_type": "execute_result"
        },
        {
          "data": {
            "image/png": "[encoded data removed]",
            "text/plain": [
              "<Figure size 640x480 with 1 Axes>"
            ]
          },
          "metadata": {},
          "output_type": "display_data"
        }
      ],
      "source": [
        "apartamentos[\"tipo_operacion\"].hist()"
      ]
    },
    {
      "cell_type": "code",
      "execution_count": null,
      "metadata": {},
      "outputs": [
        {
          "data": {
            "text/html": [
              "<div>\n",
              "<style scoped>\n",
              "    .dataframe tbody tr th:only-of-type {\n",
              "        vertical-align: middle;\n",
              "    }\n",
              "\n",
              "    .dataframe tbody tr th {\n",
              "        vertical-align: top;\n",
              "    }\n",
              "\n",
              "    .dataframe thead th {\n",
              "        text-align: right;\n",
              "    }\n",
              "</style>\n",
              "<table border=\"1\" class=\"dataframe\">\n",
              "  <thead>\n",
              "    <tr style=\"text-align: right;\">\n",
              "      <th></th>\n",
              "      <th>tipo_propiedad</th>\n",
              "      <th>tipo_operacion</th>\n",
              "      <th>precio_venta</th>\n",
              "      <th>area</th>\n",
              "      <th>habitaciones</th>\n",
              "      <th>banos</th>\n",
              "      <th>administracion</th>\n",
              "      <th>parqueaderos</th>\n",
              "      <th>sector</th>\n",
              "      <th>estrato</th>\n",
              "      <th>antiguedad</th>\n",
              "      <th>latitud</th>\n",
              "      <th>longitud</th>\n",
              "      <th>caracteristicas</th>\n",
              "      <th>estado</th>\n",
              "      <th>precio_arriendo</th>\n",
              "    </tr>\n",
              "  </thead>\n",
              "  <tbody>\n",
              "    <tr>\n",
              "      <th>0</th>\n",
              "      <td>APARTAMENTO</td>\n",
              "      <td>VENTA</td>\n",
              "      <td>339000000.0</td>\n",
              "      <td>76.0</td>\n",
              "      <td>3.0</td>\n",
              "      <td>2.0</td>\n",
              "      <td>300000.0</td>\n",
              "      <td>1.0</td>\n",
              "      <td>BRITALIA</td>\n",
              "      <td>3.0</td>\n",
              "      <td>ENTRE 10 Y 20 ANOS</td>\n",
              "      <td>4.746592</td>\n",
              "      <td>-74.057571</td>\n",
              "      <td>[INTERIOR/BLOQUE/TORRE DEL INMUEBLE, BALCON, C...</td>\n",
              "      <td>NaN</td>\n",
              "      <td>NaN</td>\n",
              "    </tr>\n",
              "    <tr>\n",
              "      <th>1</th>\n",
              "      <td>APARTAMENTO</td>\n",
              "      <td>VENTA</td>\n",
              "      <td>223000000.0</td>\n",
              "      <td>63.0</td>\n",
              "      <td>3.0</td>\n",
              "      <td>2.0</td>\n",
              "      <td>NaN</td>\n",
              "      <td>0.0</td>\n",
              "      <td>SAN CRISTOBAL NORTE</td>\n",
              "      <td>3.0</td>\n",
              "      <td>MAS DE 20 ANOS</td>\n",
              "      <td>4.730111</td>\n",
              "      <td>-74.028170</td>\n",
              "      <td>[INSTALACION DE GAS, PORTERIA]</td>\n",
              "      <td>NaN</td>\n",
              "      <td>NaN</td>\n",
              "    </tr>\n",
              "    <tr>\n",
              "      <th>2</th>\n",
              "      <td>APARTAMENTO</td>\n",
              "      <td>VENTA</td>\n",
              "      <td>440898168.0</td>\n",
              "      <td>54.0</td>\n",
              "      <td>3.0</td>\n",
              "      <td>2.0</td>\n",
              "      <td>305000.0</td>\n",
              "      <td>0.0</td>\n",
              "      <td>LA SABANA</td>\n",
              "      <td>3.0</td>\n",
              "      <td>ENTRE 0 Y 5 ANOS</td>\n",
              "      <td>4.607378</td>\n",
              "      <td>-74.082648</td>\n",
              "      <td>[INTERIOR/BLOQUE/TORRE DEL INMUEBLE, BALCON, C...</td>\n",
              "      <td>NaN</td>\n",
              "      <td>NaN</td>\n",
              "    </tr>\n",
              "    <tr>\n",
              "      <th>3</th>\n",
              "      <td>APARTAMENTO</td>\n",
              "      <td>VENTA</td>\n",
              "      <td>158000000.0</td>\n",
              "      <td>43.0</td>\n",
              "      <td>2.0</td>\n",
              "      <td>2.0</td>\n",
              "      <td>106600.0</td>\n",
              "      <td>0.0</td>\n",
              "      <td>TIBABUYES</td>\n",
              "      <td>2.0</td>\n",
              "      <td>ENTRE 10 Y 20 ANOS</td>\n",
              "      <td>4.740109</td>\n",
              "      <td>-74.113675</td>\n",
              "      <td>[INTERIOR/BLOQUE/TORRE DEL INMUEBLE, CONJUNTO ...</td>\n",
              "      <td>NaN</td>\n",
              "      <td>NaN</td>\n",
              "    </tr>\n",
              "    <tr>\n",
              "      <th>4</th>\n",
              "      <td>APARTAMENTO</td>\n",
              "      <td>VENTA</td>\n",
              "      <td>222800000.0</td>\n",
              "      <td>48.0</td>\n",
              "      <td>3.0</td>\n",
              "      <td>2.0</td>\n",
              "      <td>151000.0</td>\n",
              "      <td>0.0</td>\n",
              "      <td>VERBENAL</td>\n",
              "      <td>3.0</td>\n",
              "      <td>MAS DE 20 ANOS</td>\n",
              "      <td>4.763900</td>\n",
              "      <td>-74.025280</td>\n",
              "      <td>[INTERIOR/BLOQUE/TORRE DEL INMUEBLE, CONJUNTO ...</td>\n",
              "      <td>NaN</td>\n",
              "      <td>NaN</td>\n",
              "    </tr>\n",
              "  </tbody>\n",
              "</table>\n",
              "</div>"
            ],
            "text/plain": [
              "  tipo_propiedad tipo_operacion  precio_venta  area  habitaciones  banos  \\\n",
              "0    APARTAMENTO          VENTA   339000000.0  76.0           3.0    2.0   \n",
              "1    APARTAMENTO          VENTA   223000000.0  63.0           3.0    2.0   \n",
              "2    APARTAMENTO          VENTA   440898168.0  54.0           3.0    2.0   \n",
              "3    APARTAMENTO          VENTA   158000000.0  43.0           2.0    2.0   \n",
              "4    APARTAMENTO          VENTA   222800000.0  48.0           3.0    2.0   \n",
              "\n",
              "   administracion  parqueaderos               sector  estrato  \\\n",
              "0        300000.0           1.0             BRITALIA      3.0   \n",
              "1             NaN           0.0  SAN CRISTOBAL NORTE      3.0   \n",
              "2        305000.0           0.0            LA SABANA      3.0   \n",
              "3        106600.0           0.0            TIBABUYES      2.0   \n",
              "4        151000.0           0.0             VERBENAL      3.0   \n",
              "\n",
              "           antiguedad   latitud   longitud  \\\n",
              "0  ENTRE 10 Y 20 ANOS  4.746592 -74.057571   \n",
              "1      MAS DE 20 ANOS  4.730111 -74.028170   \n",
              "2    ENTRE 0 Y 5 ANOS  4.607378 -74.082648   \n",
              "3  ENTRE 10 Y 20 ANOS  4.740109 -74.113675   \n",
              "4      MAS DE 20 ANOS  4.763900 -74.025280   \n",
              "\n",
              "                                     caracteristicas estado  precio_arriendo  \n",
              "0  [INTERIOR/BLOQUE/TORRE DEL INMUEBLE, BALCON, C...    NaN              NaN  \n",
              "1                     [INSTALACION DE GAS, PORTERIA]    NaN              NaN  \n",
              "2  [INTERIOR/BLOQUE/TORRE DEL INMUEBLE, BALCON, C...    NaN              NaN  \n",
              "3  [INTERIOR/BLOQUE/TORRE DEL INMUEBLE, CONJUNTO ...    NaN              NaN  \n",
              "4  [INTERIOR/BLOQUE/TORRE DEL INMUEBLE, CONJUNTO ...    NaN              NaN  "
            ]
          },
          "execution_count": 15,
          "metadata": {},
          "output_type": "execute_result"
        }
      ],
      "source": [
        "aptos_venta = apartamentos[apartamentos['tipo_operacion'].str.contains('VENTA', case=False, na=False)]\n",
        "aptos_venta.head()"
      ]
    },
    {
      "cell_type": "code",
      "execution_count": null,
      "metadata": {
        "colab": {
          "base_uri": "https://localhost:8080/"
        },
        "id": "aLWckTKdWIRJ",
        "outputId": "a6f422b3-17ea-4cca-8549-63a0d5029e85"
      },
      "outputs": [
        {
          "name": "stdout",
          "output_type": "stream",
          "text": [
            "Aptos con precion de venta nullos: 0\n",
            "Aptos con precion de venta nullos: 0\n"
          ]
        }
      ],
      "source": [
        "aptos_venta = aptos_venta.drop([\"tipo_operacion\", \"tipo_propiedad\", \"precio_arriendo\"], axis=1)\n",
        "print(f\"Aptos con precion de venta nullos: {aptos_venta['precio_venta'].isnull().sum()}\")\n",
        "aptos_venta = aptos_venta.dropna(subset=[\"precio_venta\"])\n",
        "print(f\"Aptos con precion de venta nullos: {aptos_venta['precio_venta'].isnull().sum()}\")"
      ]
    },
    {
      "cell_type": "code",
      "execution_count": null,
      "metadata": {
        "colab": {
          "base_uri": "https://localhost:8080/",
          "height": 329
        },
        "id": "qhv5SYZXFoAy",
        "outputId": "d73011c1-255c-4b1a-e661-5c8b63f9730f"
      },
      "outputs": [
        {
          "name": "stdout",
          "output_type": "stream",
          "text": [
            "<class 'pandas.core.frame.DataFrame'>\n",
            "Index: 28578 entries, 0 to 44435\n",
            "Data columns (total 13 columns):\n",
            " #   Column           Non-Null Count  Dtype  \n",
            "---  ------           --------------  -----  \n",
            " 0   precio_venta     28578 non-null  float64\n",
            " 1   area             28578 non-null  float64\n",
            " 2   habitaciones     28578 non-null  float64\n",
            " 3   banos            28578 non-null  float64\n",
            " 4   administracion   26006 non-null  float64\n",
            " 5   parqueaderos     28578 non-null  float64\n",
            " 6   sector           27128 non-null  object \n",
            " 7   estrato          28576 non-null  float64\n",
            " 8   antiguedad       28568 non-null  object \n",
            " 9   latitud          27881 non-null  float64\n",
            " 10  longitud         27881 non-null  float64\n",
            " 11  caracteristicas  28577 non-null  object \n",
            " 12  estado           27835 non-null  object \n",
            "dtypes: float64(9), object(4)\n",
            "memory usage: 3.1+ MB\n"
          ]
        }
      ],
      "source": [
        "aptos_venta.info()"
      ]
    },
    {
      "cell_type": "markdown",
      "metadata": {},
      "source": [
        "## Extracción de caracteristicas\n",
        "\n",
        "La columna caracteristicas contine algunos valores adicionales que pueden ser utiles para el modelo, en esta sección los voy a extraer y analizar a ver si pueden ser de ayuda."
      ]
    },
    {
      "cell_type": "code",
      "execution_count": null,
      "metadata": {},
      "outputs": [
        {
          "name": "stdout",
          "output_type": "stream",
          "text": [
            "Filas con 'caracteristicas' nulo o vacío: 1\n",
            "Filas con 'caracteristicas' NO nulo y NO vacío: 28577\n"
          ]
        }
      ],
      "source": [
        "# Contar nulos o vacíos\n",
        "nulos_o_vacios = aptos_venta['caracteristicas'].isnull() | (aptos_venta['caracteristicas'].str.strip() == '')\n",
        "\n",
        "# Conteo\n",
        "n_nulos_o_vacios = nulos_o_vacios.sum()\n",
        "n_no_nulos = (~nulos_o_vacios).sum()\n",
        "\n",
        "print(f\"Filas con 'caracteristicas' nulo o vacío: {n_nulos_o_vacios}\")\n",
        "print(f\"Filas con 'caracteristicas' NO nulo y NO vacío: {n_no_nulos}\")\n"
      ]
    },
    {
      "cell_type": "code",
      "execution_count": null,
      "metadata": {},
      "outputs": [
        {
          "data": {
            "text/plain": [
              "0    [INTERIOR/BLOQUE/TORRE DEL INMUEBLE, BALCON, C...\n",
              "1                       [INSTALACION DE GAS, PORTERIA]\n",
              "2    [INTERIOR/BLOQUE/TORRE DEL INMUEBLE, BALCON, C...\n",
              "3    [INTERIOR/BLOQUE/TORRE DEL INMUEBLE, CONJUNTO ...\n",
              "4    [INTERIOR/BLOQUE/TORRE DEL INMUEBLE, CONJUNTO ...\n",
              "Name: caracteristicas, dtype: object"
            ]
          },
          "execution_count": 19,
          "metadata": {},
          "output_type": "execute_result"
        }
      ],
      "source": [
        "aptos_venta[\"caracteristicas\"].head()"
      ]
    },
    {
      "cell_type": "code",
      "execution_count": null,
      "metadata": {},
      "outputs": [
        {
          "data": {
            "text/html": [
              "<div>\n",
              "<style scoped>\n",
              "    .dataframe tbody tr th:only-of-type {\n",
              "        vertical-align: middle;\n",
              "    }\n",
              "\n",
              "    .dataframe tbody tr th {\n",
              "        vertical-align: top;\n",
              "    }\n",
              "\n",
              "    .dataframe thead th {\n",
              "        text-align: right;\n",
              "    }\n",
              "</style>\n",
              "<table border=\"1\" class=\"dataframe\">\n",
              "  <thead>\n",
              "    <tr style=\"text-align: right;\">\n",
              "      <th></th>\n",
              "      <th>precio_venta</th>\n",
              "      <th>area</th>\n",
              "      <th>habitaciones</th>\n",
              "      <th>banos</th>\n",
              "      <th>administracion</th>\n",
              "      <th>parqueaderos</th>\n",
              "      <th>sector</th>\n",
              "      <th>estrato</th>\n",
              "      <th>antiguedad</th>\n",
              "      <th>latitud</th>\n",
              "      <th>...</th>\n",
              "      <th>balcon</th>\n",
              "      <th>conjunto_cerrado</th>\n",
              "      <th>se_permiten_mascotas</th>\n",
              "      <th>gimnasio</th>\n",
              "      <th>piscina</th>\n",
              "      <th>zona_de_bbq</th>\n",
              "      <th>area_lote</th>\n",
              "      <th>area_terraza</th>\n",
              "      <th>numero_piso</th>\n",
              "      <th>numero_closets</th>\n",
              "    </tr>\n",
              "  </thead>\n",
              "  <tbody>\n",
              "    <tr>\n",
              "      <th>0</th>\n",
              "      <td>339000000.0</td>\n",
              "      <td>76.0</td>\n",
              "      <td>3.0</td>\n",
              "      <td>2.0</td>\n",
              "      <td>300000.0</td>\n",
              "      <td>1.0</td>\n",
              "      <td>BRITALIA</td>\n",
              "      <td>3.0</td>\n",
              "      <td>ENTRE 10 Y 20 ANOS</td>\n",
              "      <td>4.746592</td>\n",
              "      <td>...</td>\n",
              "      <td>1</td>\n",
              "      <td>1</td>\n",
              "      <td>0</td>\n",
              "      <td>0</td>\n",
              "      <td>0</td>\n",
              "      <td>0</td>\n",
              "      <td>&lt;NA&gt;</td>\n",
              "      <td>&lt;NA&gt;</td>\n",
              "      <td>&lt;NA&gt;</td>\n",
              "      <td>&lt;NA&gt;</td>\n",
              "    </tr>\n",
              "    <tr>\n",
              "      <th>1</th>\n",
              "      <td>223000000.0</td>\n",
              "      <td>63.0</td>\n",
              "      <td>3.0</td>\n",
              "      <td>2.0</td>\n",
              "      <td>NaN</td>\n",
              "      <td>0.0</td>\n",
              "      <td>SAN CRISTOBAL NORTE</td>\n",
              "      <td>3.0</td>\n",
              "      <td>MAS DE 20 ANOS</td>\n",
              "      <td>4.730111</td>\n",
              "      <td>...</td>\n",
              "      <td>0</td>\n",
              "      <td>0</td>\n",
              "      <td>0</td>\n",
              "      <td>0</td>\n",
              "      <td>0</td>\n",
              "      <td>0</td>\n",
              "      <td>&lt;NA&gt;</td>\n",
              "      <td>&lt;NA&gt;</td>\n",
              "      <td>&lt;NA&gt;</td>\n",
              "      <td>&lt;NA&gt;</td>\n",
              "    </tr>\n",
              "    <tr>\n",
              "      <th>2</th>\n",
              "      <td>440898168.0</td>\n",
              "      <td>54.0</td>\n",
              "      <td>3.0</td>\n",
              "      <td>2.0</td>\n",
              "      <td>305000.0</td>\n",
              "      <td>0.0</td>\n",
              "      <td>LA SABANA</td>\n",
              "      <td>3.0</td>\n",
              "      <td>ENTRE 0 Y 5 ANOS</td>\n",
              "      <td>4.607378</td>\n",
              "      <td>...</td>\n",
              "      <td>1</td>\n",
              "      <td>1</td>\n",
              "      <td>0</td>\n",
              "      <td>0</td>\n",
              "      <td>0</td>\n",
              "      <td>0</td>\n",
              "      <td>&lt;NA&gt;</td>\n",
              "      <td>&lt;NA&gt;</td>\n",
              "      <td>&lt;NA&gt;</td>\n",
              "      <td>&lt;NA&gt;</td>\n",
              "    </tr>\n",
              "    <tr>\n",
              "      <th>3</th>\n",
              "      <td>158000000.0</td>\n",
              "      <td>43.0</td>\n",
              "      <td>2.0</td>\n",
              "      <td>2.0</td>\n",
              "      <td>106600.0</td>\n",
              "      <td>0.0</td>\n",
              "      <td>TIBABUYES</td>\n",
              "      <td>2.0</td>\n",
              "      <td>ENTRE 10 Y 20 ANOS</td>\n",
              "      <td>4.740109</td>\n",
              "      <td>...</td>\n",
              "      <td>0</td>\n",
              "      <td>1</td>\n",
              "      <td>0</td>\n",
              "      <td>0</td>\n",
              "      <td>0</td>\n",
              "      <td>0</td>\n",
              "      <td>&lt;NA&gt;</td>\n",
              "      <td>&lt;NA&gt;</td>\n",
              "      <td>&lt;NA&gt;</td>\n",
              "      <td>&lt;NA&gt;</td>\n",
              "    </tr>\n",
              "    <tr>\n",
              "      <th>4</th>\n",
              "      <td>222800000.0</td>\n",
              "      <td>48.0</td>\n",
              "      <td>3.0</td>\n",
              "      <td>2.0</td>\n",
              "      <td>151000.0</td>\n",
              "      <td>0.0</td>\n",
              "      <td>VERBENAL</td>\n",
              "      <td>3.0</td>\n",
              "      <td>MAS DE 20 ANOS</td>\n",
              "      <td>4.763900</td>\n",
              "      <td>...</td>\n",
              "      <td>0</td>\n",
              "      <td>1</td>\n",
              "      <td>0</td>\n",
              "      <td>0</td>\n",
              "      <td>0</td>\n",
              "      <td>0</td>\n",
              "      <td>&lt;NA&gt;</td>\n",
              "      <td>&lt;NA&gt;</td>\n",
              "      <td>&lt;NA&gt;</td>\n",
              "      <td>&lt;NA&gt;</td>\n",
              "    </tr>\n",
              "  </tbody>\n",
              "</table>\n",
              "<p>5 rows × 26 columns</p>\n",
              "</div>"
            ],
            "text/plain": [
              "   precio_venta  area  habitaciones  banos  administracion  parqueaderos  \\\n",
              "0   339000000.0  76.0           3.0    2.0        300000.0           1.0   \n",
              "1   223000000.0  63.0           3.0    2.0             NaN           0.0   \n",
              "2   440898168.0  54.0           3.0    2.0        305000.0           0.0   \n",
              "3   158000000.0  43.0           2.0    2.0        106600.0           0.0   \n",
              "4   222800000.0  48.0           3.0    2.0        151000.0           0.0   \n",
              "\n",
              "                sector  estrato          antiguedad   latitud  ...  balcon  \\\n",
              "0             BRITALIA      3.0  ENTRE 10 Y 20 ANOS  4.746592  ...       1   \n",
              "1  SAN CRISTOBAL NORTE      3.0      MAS DE 20 ANOS  4.730111  ...       0   \n",
              "2            LA SABANA      3.0    ENTRE 0 Y 5 ANOS  4.607378  ...       1   \n",
              "3            TIBABUYES      2.0  ENTRE 10 Y 20 ANOS  4.740109  ...       0   \n",
              "4             VERBENAL      3.0      MAS DE 20 ANOS  4.763900  ...       0   \n",
              "\n",
              "  conjunto_cerrado se_permiten_mascotas  gimnasio  piscina  zona_de_bbq  \\\n",
              "0                1                    0         0        0            0   \n",
              "1                0                    0         0        0            0   \n",
              "2                1                    0         0        0            0   \n",
              "3                1                    0         0        0            0   \n",
              "4                1                    0         0        0            0   \n",
              "\n",
              "   area_lote  area_terraza  numero_piso  numero_closets  \n",
              "0       <NA>          <NA>         <NA>            <NA>  \n",
              "1       <NA>          <NA>         <NA>            <NA>  \n",
              "2       <NA>          <NA>         <NA>            <NA>  \n",
              "3       <NA>          <NA>         <NA>            <NA>  \n",
              "4       <NA>          <NA>         <NA>            <NA>  \n",
              "\n",
              "[5 rows x 26 columns]"
            ]
          },
          "execution_count": 20,
          "metadata": {},
          "output_type": "execute_result"
        }
      ],
      "source": [
        "import re\n",
        "import pandas as pd\n",
        "\n",
        "aptos_venta_caracteristicas = aptos_venta.copy(deep=True)\n",
        "\n",
        "# Lista con los tags booleanos más comunes que quieres detectar (Asumimos que si no están es porque no se permiten o no tienen)\n",
        "tags_binarios = [\n",
        "    'AIRE ACONDICIONADO', 'ALARMA', 'ASCENSOR', 'BALCON', 'CONJUNTO CERRADO', 'SE PERMITEN MASCOTAS',\n",
        "    'GIMNASIO', 'PISCINA', 'ZONA DE BBQ'\n",
        "]\n",
        "\n",
        "# Patrones con valor numérico\n",
        "patrones_numericos = {\n",
        "    'area_lote': r'AREA DEL LOTE (\\d+\\.?\\d*)',\n",
        "    'area_terraza': r'AREA TERRAZA/BALCON (\\d+\\.?\\d*)',\n",
        "    'numero_piso': r'NUMERO DE PISO (\\d+\\.?\\d*)',\n",
        "    'numero_closets': r'NUMERO DE CLOSETS (\\d+\\.?\\d*)'\n",
        "}\n",
        "\n",
        "# Inicializa las columnas nuevas\n",
        "for tag in tags_binarios:\n",
        "    aptos_venta_caracteristicas[tag.replace(\" \", \"_\").lower()] = 0\n",
        "\n",
        "for col in patrones_numericos.keys():\n",
        "    aptos_venta_caracteristicas[col] = pd.NA\n",
        "\n",
        "# Procesa cada fila\n",
        "for i, row in aptos_venta_caracteristicas.iterrows():\n",
        "    # Si no es lista (es NaN), usa lista vacía\n",
        "    if isinstance(row['caracteristicas'], list):\n",
        "        caracts = [c.upper() for c in row['caracteristicas']]\n",
        "    else:\n",
        "        caracts = []\n",
        "    \n",
        "    # Marca las booleanas\n",
        "    for tag in tags_binarios:\n",
        "        if tag in caracts:\n",
        "            aptos_venta_caracteristicas.at[i, tag.replace(\" \", \"_\").lower()] = 1\n",
        "    \n",
        "    # Extrae los valores numéricos\n",
        "    for col, pattern in patrones_numericos.items():\n",
        "        for c in caracts:\n",
        "            m = re.search(pattern, c)\n",
        "            if m:\n",
        "                aptos_venta_caracteristicas.at[i, col] = float(m.group(1))\n",
        "                break\n",
        "\n",
        "aptos_venta_caracteristicas.head()\n"
      ]
    },
    {
      "cell_type": "code",
      "execution_count": null,
      "metadata": {},
      "outputs": [
        {
          "name": "stdout",
          "output_type": "stream",
          "text": [
            "area_lote:\n",
            "  Valores válidos: 0 (0.0%)\n",
            "  Valores nulos:   28578 (100.0%)\n",
            "------------------------------\n",
            "area_terraza:\n",
            "  Valores válidos: 7262 (25.4%)\n",
            "  Valores nulos:   21316 (74.6%)\n",
            "count     7262.0\n",
            "unique     353.0\n",
            "top          1.0\n",
            "freq      1486.0\n",
            "Name: area_terraza, dtype: float64\n",
            "------------------------------\n",
            "numero_piso:\n",
            "  Valores válidos: 19461 (68.1%)\n",
            "  Valores nulos:   9117 (31.9%)\n",
            "count     19461.0\n",
            "unique      122.0\n",
            "top           2.0\n",
            "freq       2931.0\n",
            "Name: numero_piso, dtype: float64\n",
            "------------------------------\n",
            "numero_closets:\n",
            "  Valores válidos: 10433 (36.5%)\n",
            "  Valores nulos:   18145 (63.5%)\n",
            "count     10433.0\n",
            "unique        6.0\n",
            "top           3.0\n",
            "freq       3575.0\n",
            "Name: numero_closets, dtype: float64\n",
            "------------------------------\n"
          ]
        }
      ],
      "source": [
        "# Vamos a revisar cuantos Nan hay en las caracteristicas adicionales que se agregaron\n",
        "\n",
        "total = len(aptos_venta_caracteristicas)\n",
        "\n",
        "for col in ['area_lote', 'area_terraza', 'numero_piso', 'numero_closets']:\n",
        "    n_nulos = aptos_venta_caracteristicas[col].isna().sum()\n",
        "    n_validos = total - n_nulos\n",
        "    print(f\"{col}:\")\n",
        "    print(f\"  Valores válidos: {n_validos} ({n_validos/total:.1%})\")\n",
        "    print(f\"  Valores nulos:   {n_nulos} ({n_nulos/total:.1%})\")\n",
        "    if n_validos > 0:\n",
        "        print(aptos_venta_caracteristicas[col].describe())\n",
        "    print(\"-\" * 30)\n"
      ]
    },
    {
      "cell_type": "markdown",
      "metadata": {},
      "source": [
        "## 📋 Conclusión del Análisis de Características Numéricas\n",
        "\n",
        "Tras analizar la cobertura de las variables numéricas extraídas de la columna `caracteristicas`, se concluye lo siguiente:\n",
        "\n",
        "- La variable `area_lote` presenta un **100% de valores nulos**, por lo que se decide **eliminarla** del conjunto de datos.\n",
        "- Las variables `area_terraza`, `numero_piso` y `numero_closets` tienen una cobertura parcial, siendo `numero_piso` la mejor con un **68% de valores válidos**.\n",
        "- Estas tres variables restantes se conservan en el dataset para una **posible imputación o tratamiento posterior**, dado que podrían contener información útil para el modelo.\n",
        "\n",
        "Se procederá a eliminar únicamente `area_lote` y mantener las demás para evaluarlas más adelante.\n"
      ]
    },
    {
      "cell_type": "code",
      "execution_count": null,
      "metadata": {},
      "outputs": [],
      "source": [
        "aptos_venta_caracteristicas = aptos_venta_caracteristicas.drop(columns=['area_lote'])"
      ]
    },
    {
      "cell_type": "code",
      "execution_count": null,
      "metadata": {},
      "outputs": [
        {
          "name": "stdout",
          "output_type": "stream",
          "text": [
            "Balanceo de clases por característica:\n",
            "--------------------------------------------------\n",
            "aire_acondicionado: 1=106 (0.4%), 0=28472 (99.6%)\n",
            "alarma: 1=1623 (5.7%), 0=26955 (94.3%)\n",
            "ascensor: 1=18401 (64.4%), 0=10177 (35.6%)\n",
            "balcon: 1=108 (0.4%), 0=28470 (99.6%)\n",
            "conjunto_cerrado: 1=12458 (43.6%), 0=16120 (56.4%)\n",
            "se_permiten_mascotas: 1=557 (1.9%), 0=28021 (98.1%)\n",
            "gimnasio: 1=9155 (32.0%), 0=19423 (68.0%)\n",
            "piscina: 1=2995 (10.5%), 0=25583 (89.5%)\n",
            "zona_de_bbq: 1=7482 (26.2%), 0=21096 (73.8%)\n"
          ]
        }
      ],
      "source": [
        "print(\"Balanceo de clases por característica:\")\n",
        "print(\"-\" * 50)\n",
        "\n",
        "total = len(aptos_venta_caracteristicas)\n",
        "\n",
        "for tag in tags_binarios:\n",
        "    col = tag.replace(\" \", \"_\").lower()\n",
        "    n_1 = aptos_venta_caracteristicas[col].sum()\n",
        "    n_0 = total - n_1\n",
        "    pct_1 = n_1 / total * 100\n",
        "    pct_0 = n_0 / total * 100\n",
        "    print(f\"{col}: 1={n_1} ({pct_1:.1f}%), 0={n_0} ({pct_0:.1f}%)\")"
      ]
    },
    {
      "cell_type": "markdown",
      "metadata": {},
      "source": [
        "### 📋 Decisiones Finales sobre las Características Binarias\n",
        "\n",
        "Tras el análisis del balance de clases y la interpretación contextual de cada característica, se toman las siguientes decisiones:\n",
        "\n",
        "| Característica             | % Presente | Decisión    | Justificación                                                                                    |\n",
        "| -------------------------- | ---------- | ----------- | ------------------------------------------------------------------------------------------------ |\n",
        "| **aire\\_acondicionado**    | 0.4%       | ❌ Descartar | Muy poco frecuente y con baja relevancia para apartamentos.                                      |\n",
        "| **balcon**                 | 0.4%       | ❌ Descartar | Muy poco frecuente; probablemente ruido.                                                         |\n",
        "| **se\\_permiten\\_mascotas** | 1.9%       | ❌ Descartar | Muy poco frecuente; no aporta información significativa.                                         |\n",
        "| **ascensor**               | 64.4%      | ✅ Mantener  | Alta frecuencia y esperable; relevante para apartamentos.                                        |\n",
        "| **conjunto\\_cerrado**      | 43.6%      | ✅ Mantener  | Bien balanceada y relevante.                                                                     |\n",
        "| **gimnasio**               | 32.0%      | ✅ Mantener  | Buena cobertura y relevante para conjuntos residenciales.                                        |\n",
        "| **zona\\_de\\_bbq**          | 26.2%      | ✅ Mantener  | Suficiente cobertura y valor agregado para el conjunto.                                          |\n",
        "| **piscina**                | 10.5%      | ✅ Mantener  | Aunque poco frecuente, es un elemento relevante en conjuntos residenciales.                      |\n",
        "| **alarma**                 | 5.7%       | ✅ Mantener  | Aunque poco frecuente y con posible ambigüedad, se retiene para evaluar relevancia en el modelo. |\n",
        "\n",
        "---\n",
        "\n",
        "#### 📌 Comentarios adicionales\n",
        "\n",
        "* Se opta por **mantener `piscina`**, ya que, pese a su baja frecuencia, es un factor distintivo y de alto impacto en conjuntos residenciales.\n",
        "* Se decide mantener **`alarma`**, aunque es poco clara en su significado (puede referirse a una alarma dentro del apartamento o del conjunto). La relevancia de esta característica se evaluará durante la construcción del modelo.\n",
        "\n",
        "Las características descartadas (`aire_acondicionado`, `balcon`, `se_permiten_mascotas`) tienen una frecuencia extremadamente baja y se consideran poco útiles para el análisis o el modelo predictivo.\n"
      ]
    },
    {
      "cell_type": "code",
      "execution_count": null,
      "metadata": {},
      "outputs": [
        {
          "name": "stdout",
          "output_type": "stream",
          "text": [
            "Características eliminadas: ['aire_acondicionado', 'balcon', 'se_permiten_mascotas']\n",
            "Características mantenidas: ['alarma', 'ascensor', 'conjunto_cerrado', 'gimnasio', 'piscina', 'zona_de_bbq']\n"
          ]
        }
      ],
      "source": [
        "# Lista completa original\n",
        "tags_binarios = [\n",
        "    'AIRE ACONDICIONADO', 'ALARMA', 'ASCENSOR', 'BALCON', 'CONJUNTO CERRADO', \n",
        "    'SE PERMITEN MASCOTAS', 'GIMNASIO', 'PISCINA', 'ZONA DE BBQ'\n",
        "]\n",
        "\n",
        "# Características que decidimos mantener\n",
        "tags_binarios_mantener = [\n",
        "    'ALARMA', 'ASCENSOR', 'CONJUNTO CERRADO', 'GIMNASIO', 'PISCINA', 'ZONA DE BBQ'\n",
        "]\n",
        "\n",
        "# Columnas que se quedan en el DataFrame (en minúsculas con _)\n",
        "cols_mantener = [tag.replace(\" \", \"_\").lower() for tag in tags_binarios_mantener]\n",
        "\n",
        "# Columnas que se descartan (también con _)\n",
        "cols_descartar = [tag.replace(\" \", \"_\").lower() for tag in tags_binarios if tag not in tags_binarios_mantener]\n",
        "\n",
        "# Eliminamos las no deseadas\n",
        "aptos_venta_caracteristicas.drop(columns=cols_descartar, inplace=True)\n",
        "\n",
        "print(\"Características eliminadas:\", cols_descartar)\n",
        "print(\"Características mantenidas:\", cols_mantener)\n"
      ]
    },
    {
      "cell_type": "code",
      "execution_count": null,
      "metadata": {},
      "outputs": [
        {
          "name": "stdout",
          "output_type": "stream",
          "text": [
            "✅ Columna 'caracteristicas' eliminada.\n"
          ]
        }
      ],
      "source": [
        "# Eliminar la columna 'caracteristicas' porque ya fue procesada\n",
        "if 'caracteristicas' in aptos_venta_caracteristicas.columns:\n",
        "    aptos_venta_caracteristicas.drop(columns=['caracteristicas'], inplace=True)\n",
        "\n",
        "print(\"✅ Columna 'caracteristicas' eliminada.\")\n"
      ]
    },
    {
      "cell_type": "code",
      "execution_count": null,
      "metadata": {},
      "outputs": [
        {
          "name": "stdout",
          "output_type": "stream",
          "text": [
            "<class 'pandas.core.frame.DataFrame'>\n",
            "Index: 28578 entries, 0 to 44435\n",
            "Data columns (total 21 columns):\n",
            " #   Column            Non-Null Count  Dtype  \n",
            "---  ------            --------------  -----  \n",
            " 0   precio_venta      28578 non-null  float64\n",
            " 1   area              28578 non-null  float64\n",
            " 2   habitaciones      28578 non-null  float64\n",
            " 3   banos             28578 non-null  float64\n",
            " 4   administracion    26006 non-null  float64\n",
            " 5   parqueaderos      28578 non-null  float64\n",
            " 6   sector            27128 non-null  object \n",
            " 7   estrato           28576 non-null  float64\n",
            " 8   antiguedad        28568 non-null  object \n",
            " 9   latitud           27881 non-null  float64\n",
            " 10  longitud          27881 non-null  float64\n",
            " 11  estado            27835 non-null  object \n",
            " 12  alarma            28578 non-null  int64  \n",
            " 13  ascensor          28578 non-null  int64  \n",
            " 14  conjunto_cerrado  28578 non-null  int64  \n",
            " 15  gimnasio          28578 non-null  int64  \n",
            " 16  piscina           28578 non-null  int64  \n",
            " 17  zona_de_bbq       28578 non-null  int64  \n",
            " 18  area_terraza      7262 non-null   object \n",
            " 19  numero_piso       19461 non-null  object \n",
            " 20  numero_closets    10433 non-null  object \n",
            "dtypes: float64(9), int64(6), object(6)\n",
            "memory usage: 5.8+ MB\n"
          ]
        }
      ],
      "source": [
        "aptos_venta_caracteristicas.info()"
      ]
    },
    {
      "cell_type": "code",
      "execution_count": null,
      "metadata": {},
      "outputs": [
        {
          "name": "stdout",
          "output_type": "stream",
          "text": [
            "Columnas candidatas a int: ['area', 'precio_venta', 'habitaciones', 'banos', 'administracion', 'parqueaderos', 'estrato', 'area_terraza', 'numero_piso', 'numero_closets']\n",
            "--------------------------------------------------\n",
            "area: sin NaN\n",
            "precio_venta: sin NaN\n",
            "habitaciones: sin NaN\n",
            "banos: sin NaN\n",
            "administracion: 2572 NaN (9.0%)\n",
            "parqueaderos: sin NaN\n",
            "estrato: 2 NaN (0.0%)\n",
            "area_terraza: 21316 NaN (74.6%)\n",
            "numero_piso: 9117 NaN (31.9%)\n",
            "numero_closets: 18145 NaN (63.5%)\n"
          ]
        }
      ],
      "source": [
        "cols_enteros = [\"area\", \"precio_venta\", \"habitaciones\", \"banos\", \"administracion\", \n",
        "                \"parqueaderos\", \"estrato\", \"area_terraza\", \"numero_piso\", \"numero_closets\"]\n",
        "\n",
        "print(f\"Columnas candidatas a int: {cols_enteros}\")\n",
        "print(\"-\" * 50)\n",
        "\n",
        "# revisar NaNs\n",
        "for col in cols_enteros:\n",
        "    n_nulos = aptos_venta_caracteristicas[col].isna().sum()\n",
        "    n_total = len(aptos_venta_caracteristicas)\n",
        "    if n_nulos > 0:\n",
        "        print(f\"{col}: {n_nulos} NaN ({n_nulos/n_total:.1%})\")\n",
        "    else:\n",
        "        print(f\"{col}: sin NaN\")"
      ]
    },
    {
      "cell_type": "code",
      "execution_count": null,
      "metadata": {},
      "outputs": [],
      "source": [
        "aptos_venta_caracteristicas.to_csv(\"../data/aptos_bogota.csv\", index=False, encoding='utf-8')"
      ]
    },
    {
      "cell_type": "code",
      "execution_count": null,
      "metadata": {},
      "outputs": [],
      "source": [
        "aptos_sample = aptos_venta_caracteristicas.sample(n=100, random_state=42)\n",
        "\n",
        "# Exportar el sample\n",
        "aptos_sample.to_csv(\"../data/aptos_bogota_sample.csv\", index=False)"
      ]
    }
  ],
  "metadata": {
    "accelerator": "TPU",
    "colab": {
      "collapsed_sections": [
        "V45pLWtQOXVr",
        "w6FhqbgvZXHI"
      ],
      "gpuType": "V28",
      "provenance": []
    },
    "kernelspec": {
      "display_name": "indexador-py",
      "language": "python",
      "name": "python3"
    },
    "language_info": {
      "codemirror_mode": {
        "name": "ipython",
        "version": 3
      },
      "file_extension": ".py",
      "mimetype": "text/x-python",
      "name": "python",
      "nbconvert_exporter": "python",
      "pygments_lexer": "ipython3",
      "version": "3.12.11"
    }
  },
  "nbformat": 4,
  "nbformat_minor": 0
}
