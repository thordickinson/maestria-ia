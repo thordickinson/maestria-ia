{
 "cells": [
  {
   "cell_type": "code",
   "execution_count": 1,
   "id": "3c14a393",
   "metadata": {},
   "outputs": [
    {
     "name": "stdout",
     "output_type": "stream",
     "text": [
      "CV R² mean: -247.404, std: 493.983\n",
      "Test R²: -2.988\n"
     ]
    },
    {
     "data": {
      "text/plain": [
       "['estimacion_aptos_v1.pkl']"
      ]
     },
     "execution_count": 1,
     "metadata": {},
     "output_type": "execute_result"
    }
   ],
   "source": [
    "import pandas as pd\n",
    "import numpy as np\n",
    "from sklearn.ensemble import RandomForestRegressor\n",
    "from sklearn.preprocessing import OneHotEncoder\n",
    "from sklearn.compose import ColumnTransformer\n",
    "from sklearn.pipeline import Pipeline\n",
    "from sklearn.impute import SimpleImputer\n",
    "from sklearn.model_selection import train_test_split, cross_val_score\n",
    "import joblib\n",
    "\n",
    "# 1. Cargar datos\n",
    "df = pd.read_csv(\"./properties_20250525_233557.csv\")\n",
    "\n",
    "# 2. Limpiar columnas innecesarias\n",
    "df_clean = df.drop(columns=[\"precio_arriendo\", \"closets\"])\n",
    "y = df_clean[\"precio_venta\"]\n",
    "X = df_clean.drop(columns=[\"precio_venta\"])\n",
    "\n",
    "# 3. Columnas categóricas y numéricas\n",
    "categorical_cols = X.select_dtypes(include=[\"object\"]).columns.tolist()\n",
    "numerical_cols = X.select_dtypes(include=[\"int64\", \"float64\"]).columns.tolist()\n",
    "numerical_cols = [col for col in numerical_cols if col != \"precio_venta\"]\n",
    "\n",
    "# 4. Preprocesamiento\n",
    "numeric_transformer = SimpleImputer(strategy=\"median\")\n",
    "categorical_transformer = Pipeline(steps=[\n",
    "    (\"imputer\", SimpleImputer(strategy=\"most_frequent\")),\n",
    "    (\"onehot\", OneHotEncoder(handle_unknown=\"ignore\"))\n",
    "])\n",
    "preprocessor = ColumnTransformer([\n",
    "    (\"num\", numeric_transformer, numerical_cols),\n",
    "    (\"cat\", categorical_transformer, categorical_cols)\n",
    "])\n",
    "\n",
    "# 5. Pipeline del modelo\n",
    "model = Pipeline(steps=[\n",
    "    (\"preprocessor\", preprocessor),\n",
    "    (\"regressor\", RandomForestRegressor(n_estimators=100, random_state=42))\n",
    "])\n",
    "\n",
    "# 6. Dividir en entrenamiento y prueba\n",
    "X_train, X_test, y_train, y_test = train_test_split(\n",
    "    X, y, test_size=0.2, random_state=42\n",
    ")\n",
    "\n",
    "# 7. Entrenar modelo\n",
    "model.fit(X_train, y_train)\n",
    "\n",
    "# 8. Validación cruzada sobre el set de entrenamiento\n",
    "cv_scores = cross_val_score(model, X_train, y_train, cv=5, scoring=\"r2\")\n",
    "print(f\"CV R² mean: {cv_scores.mean():.3f}, std: {cv_scores.std():.3f}\")\n",
    "\n",
    "# 9. Evaluación en conjunto de prueba\n",
    "test_score = model.score(X_test, y_test)\n",
    "print(f\"Test R²: {test_score:.3f}\")\n",
    "\n",
    "# 10. Guardar modelo\n",
    "joblib.dump(model, \"estimacion_aptos_v1.pkl\")\n"
   ]
  }
 ],
 "metadata": {
  "kernelspec": {
   "display_name": ".venv",
   "language": "python",
   "name": "python3"
  },
  "language_info": {
   "codemirror_mode": {
    "name": "ipython",
    "version": 3
   },
   "file_extension": ".py",
   "mimetype": "text/x-python",
   "name": "python",
   "nbconvert_exporter": "python",
   "pygments_lexer": "ipython3",
   "version": "3.13.2"
  }
 },
 "nbformat": 4,
 "nbformat_minor": 5
}
