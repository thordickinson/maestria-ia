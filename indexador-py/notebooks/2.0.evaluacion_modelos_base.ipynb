{
 "cells": [
  {
   "cell_type": "code",
   "execution_count": null,
   "id": "576ee698",
   "metadata": {},
   "outputs": [
    {
     "name": "stdout",
     "output_type": "stream",
     "text": [
      "Variables usadas en fase 1 (16): ['area', 'habitaciones', 'banos', 'parqueaderos', 'sector', 'estrato', 'antiguedad', 'latitud', 'longitud', 'estado', 'alarma', 'ascensor', 'conjunto_cerrado', 'gimnasio', 'piscina', 'zona_de_bbq']\n",
      "Variables ignoradas (4): {'area_terraza', 'numero_piso', 'administracion', 'numero_closets'}\n"
     ]
    },
    {
     "name": "stderr",
     "output_type": "stream",
     "text": [
      "/Users/dickinson.arismendy/Workspace/personal/maestria-ia/indexador-py/.venv/lib/python3.10/site-packages/sklearn/linear_model/_coordinate_descent.py:656: ConvergenceWarning: Objective did not converge. You might want to increase the number of iterations, check the scale of the features or consider increasing regularisation. Duality gap: 8.331e+20, tolerance: 1.642e+18\n",
      "  model = cd_fast.sparse_enet_coordinate_descent(\n",
      "/Users/dickinson.arismendy/Workspace/personal/maestria-ia/indexador-py/.venv/lib/python3.10/site-packages/sklearn/linear_model/_coordinate_descent.py:656: ConvergenceWarning: Objective did not converge. You might want to increase the number of iterations, check the scale of the features or consider increasing regularisation. Duality gap: 7.212e+20, tolerance: 1.631e+18\n",
      "  model = cd_fast.sparse_enet_coordinate_descent(\n",
      "/Users/dickinson.arismendy/Workspace/personal/maestria-ia/indexador-py/.venv/lib/python3.10/site-packages/sklearn/linear_model/_coordinate_descent.py:656: ConvergenceWarning: Objective did not converge. You might want to increase the number of iterations, check the scale of the features or consider increasing regularisation. Duality gap: 9.912e+20, tolerance: 1.642e+18\n",
      "  model = cd_fast.sparse_enet_coordinate_descent(\n",
      "/Users/dickinson.arismendy/Workspace/personal/maestria-ia/indexador-py/.venv/lib/python3.10/site-packages/sklearn/linear_model/_coordinate_descent.py:656: ConvergenceWarning: Objective did not converge. You might want to increase the number of iterations, check the scale of the features or consider increasing regularisation. Duality gap: 9.078e+20, tolerance: 1.635e+18\n",
      "  model = cd_fast.sparse_enet_coordinate_descent(\n",
      "/Users/dickinson.arismendy/Workspace/personal/maestria-ia/indexador-py/.venv/lib/python3.10/site-packages/sklearn/linear_model/_coordinate_descent.py:656: ConvergenceWarning: Objective did not converge. You might want to increase the number of iterations, check the scale of the features or consider increasing regularisation. Duality gap: 8.583e+20, tolerance: 1.635e+18\n",
      "  model = cd_fast.sparse_enet_coordinate_descent(\n"
     ]
    },
    {
     "name": "stdout",
     "output_type": "stream",
     "text": [
      "[LightGBM] [Info] Auto-choosing row-wise multi-threading, the overhead of testing was 0.000982 seconds.\n",
      "You can set `force_row_wise=true` to remove the overhead.\n",
      "And if memory is not enough, you can set `force_col_wise=true`.\n",
      "[LightGBM] [Info] Total Bins 907\n",
      "[LightGBM] [Info] Number of data points in the train set: 21895, number of used features: 60\n",
      "[LightGBM] [Info] Start training from score 990626093.247591\n"
     ]
    },
    {
     "name": "stderr",
     "output_type": "stream",
     "text": [
      "/Users/dickinson.arismendy/Workspace/personal/maestria-ia/indexador-py/.venv/lib/python3.10/site-packages/sklearn/utils/validation.py:2749: UserWarning: X does not have valid feature names, but LGBMRegressor was fitted with feature names\n",
      "  warnings.warn(\n"
     ]
    },
    {
     "name": "stdout",
     "output_type": "stream",
     "text": [
      "[LightGBM] [Info] Auto-choosing row-wise multi-threading, the overhead of testing was 0.001033 seconds.\n",
      "You can set `force_row_wise=true` to remove the overhead.\n",
      "And if memory is not enough, you can set `force_col_wise=true`.\n",
      "[LightGBM] [Info] Total Bins 905\n",
      "[LightGBM] [Info] Number of data points in the train set: 21895, number of used features: 60\n",
      "[LightGBM] [Info] Start training from score 991564042.054168\n"
     ]
    },
    {
     "name": "stderr",
     "output_type": "stream",
     "text": [
      "/Users/dickinson.arismendy/Workspace/personal/maestria-ia/indexador-py/.venv/lib/python3.10/site-packages/sklearn/utils/validation.py:2749: UserWarning: X does not have valid feature names, but LGBMRegressor was fitted with feature names\n",
      "  warnings.warn(\n"
     ]
    },
    {
     "name": "stdout",
     "output_type": "stream",
     "text": [
      "[LightGBM] [Info] Auto-choosing row-wise multi-threading, the overhead of testing was 0.000954 seconds.\n",
      "You can set `force_row_wise=true` to remove the overhead.\n",
      "And if memory is not enough, you can set `force_col_wise=true`.\n",
      "[LightGBM] [Info] Total Bins 908\n",
      "[LightGBM] [Info] Number of data points in the train set: 21895, number of used features: 60\n",
      "[LightGBM] [Info] Start training from score 994814345.362868\n"
     ]
    },
    {
     "name": "stderr",
     "output_type": "stream",
     "text": [
      "/Users/dickinson.arismendy/Workspace/personal/maestria-ia/indexador-py/.venv/lib/python3.10/site-packages/sklearn/utils/validation.py:2749: UserWarning: X does not have valid feature names, but LGBMRegressor was fitted with feature names\n",
      "  warnings.warn(\n"
     ]
    },
    {
     "name": "stdout",
     "output_type": "stream",
     "text": [
      "[LightGBM] [Info] Auto-choosing row-wise multi-threading, the overhead of testing was 0.001012 seconds.\n",
      "You can set `force_row_wise=true` to remove the overhead.\n",
      "And if memory is not enough, you can set `force_col_wise=true`.\n",
      "[LightGBM] [Info] Total Bins 910\n",
      "[LightGBM] [Info] Number of data points in the train set: 21895, number of used features: 61\n",
      "[LightGBM] [Info] Start training from score 994285948.907056\n"
     ]
    },
    {
     "name": "stderr",
     "output_type": "stream",
     "text": [
      "/Users/dickinson.arismendy/Workspace/personal/maestria-ia/indexador-py/.venv/lib/python3.10/site-packages/sklearn/utils/validation.py:2749: UserWarning: X does not have valid feature names, but LGBMRegressor was fitted with feature names\n",
      "  warnings.warn(\n"
     ]
    },
    {
     "name": "stdout",
     "output_type": "stream",
     "text": [
      "[LightGBM] [Info] Auto-choosing row-wise multi-threading, the overhead of testing was 0.000953 seconds.\n",
      "You can set `force_row_wise=true` to remove the overhead.\n",
      "And if memory is not enough, you can set `force_col_wise=true`.\n",
      "[LightGBM] [Info] Total Bins 906\n",
      "[LightGBM] [Info] Number of data points in the train set: 21896, number of used features: 59\n",
      "[LightGBM] [Info] Start training from score 992275620.753380\n",
      "                     RMSE mean      RMSE std\n",
      "RandomForest      2.484458e+08  6.278343e+06\n",
      "XGBoost           2.518410e+08  5.013813e+06\n",
      "LightGBM          2.521903e+08  5.667980e+06\n",
      "KNN               3.346218e+08  7.687614e+06\n",
      "DecisionTree      3.428083e+08  6.747340e+06\n",
      "Ridge             3.481821e+08  4.476625e+06\n",
      "LinearRegression  3.482023e+08  4.426014e+06\n",
      "Lasso             3.482050e+08  4.430505e+06\n",
      "SVR               9.133336e+08  5.537112e+06\n"
     ]
    },
    {
     "name": "stderr",
     "output_type": "stream",
     "text": [
      "/Users/dickinson.arismendy/Workspace/personal/maestria-ia/indexador-py/.venv/lib/python3.10/site-packages/sklearn/utils/validation.py:2749: UserWarning: X does not have valid feature names, but LGBMRegressor was fitted with feature names\n",
      "  warnings.warn(\n"
     ]
    }
   ],
   "source": [
    "import pandas as pd\n",
    "import numpy as np\n",
    "from sklearn.model_selection import cross_val_score, KFold\n",
    "from sklearn.linear_model import LinearRegression, Lasso, Ridge\n",
    "from sklearn.neighbors import KNeighborsRegressor\n",
    "from sklearn.tree import DecisionTreeRegressor\n",
    "from sklearn.ensemble import RandomForestRegressor\n",
    "from sklearn.svm import SVR\n",
    "from xgboost import XGBRegressor\n",
    "from lightgbm import LGBMRegressor\n",
    "from sklearn.pipeline import make_pipeline\n",
    "from sklearn.compose import ColumnTransformer\n",
    "from sklearn.preprocessing import StandardScaler, OneHotEncoder\n",
    "from sklearn.impute import SimpleImputer\n",
    "\n",
    "# === Cargar dataset ===\n",
    "df = pd.read_csv(\"../data/aptos_bogota_imputed.csv\")\n",
    "target = \"precio_venta\"\n",
    "\n",
    "# === Definir umbral de NaNs aceptable (porcentaje) ===\n",
    "nan_threshold = 0.05  # Máximo 5% de valores faltantes permitidos\n",
    "n_rows = len(df)\n",
    "\n",
    "# === Detectar columnas con NaNs excesivos ===\n",
    "na_counts = df.isna().sum()\n",
    "na_ratio = na_counts / n_rows\n",
    "cols_to_use = na_ratio[na_ratio <= nan_threshold].index.tolist()\n",
    "\n",
    "# Asegurar que 'precio_venta' esté fuera\n",
    "if target in cols_to_use:\n",
    "    cols_to_use.remove(target)\n",
    "\n",
    "print(f\"Variables usadas en fase 1 ({len(cols_to_use)}): {cols_to_use}\")\n",
    "print(f\"Variables ignoradas ({len(df.columns) - len(cols_to_use) - 1}): {set(df.columns) - set(cols_to_use) - {target}}\")\n",
    "\n",
    "# === Subconjunto limpio ===\n",
    "X = df[cols_to_use]\n",
    "y = df[target]\n",
    "\n",
    "# === Detección de tipo ===\n",
    "categorical = X.select_dtypes(include=[\"object\", \"bool\"]).columns.tolist()\n",
    "numerical = X.select_dtypes(include=[\"number\"]).columns.tolist()\n",
    "\n",
    "# === Preprocesamiento con imputación explícita (por seguridad) ===\n",
    "preprocessor = ColumnTransformer([\n",
    "    (\"num\", make_pipeline(SimpleImputer(strategy=\"mean\"), StandardScaler()), numerical),\n",
    "    (\"cat\", make_pipeline(SimpleImputer(strategy=\"most_frequent\"), OneHotEncoder(handle_unknown=\"ignore\")), categorical)\n",
    "])\n",
    "\n",
    "# === Modelos base ===\n",
    "models = {\n",
    "    \"LinearRegression\": LinearRegression(),\n",
    "    \"Lasso\": Lasso(alpha=0.1, max_iter=10000),\n",
    "    \"Ridge\": Ridge(alpha=1.0),\n",
    "    \"KNN\": KNeighborsRegressor(n_neighbors=5),\n",
    "    \"DecisionTree\": DecisionTreeRegressor(random_state=42),\n",
    "    \"RandomForest\": RandomForestRegressor(n_estimators=100, random_state=42),\n",
    "    \"SVR\": SVR(C=1.0, epsilon=0.2),\n",
    "    \"XGBoost\": XGBRegressor(n_estimators=100, max_depth=6, learning_rate=0.1, random_state=42),\n",
    "    \"LightGBM\": LGBMRegressor(n_estimators=100, learning_rate=0.1, random_state=42)\n",
    "}\n",
    "\n",
    "# === Validación cruzada ===\n",
    "cv = KFold(n_splits=5, shuffle=True, random_state=42)\n",
    "scoring = \"neg_root_mean_squared_error\"\n",
    "results = {}\n",
    "\n",
    "for name, model in models.items():\n",
    "    pipeline = make_pipeline(preprocessor, model)\n",
    "    scores = cross_val_score(pipeline, X, y, cv=cv, scoring=scoring)\n",
    "    rmse_scores = -scores\n",
    "    results[name] = {\n",
    "        \"RMSE mean\": np.mean(rmse_scores),\n",
    "        \"RMSE std\": np.std(rmse_scores)\n",
    "    }\n"
   ]
  },
  {
   "cell_type": "code",
   "execution_count": null,
   "id": "a1888f40",
   "metadata": {},
   "outputs": [],
   "source": [
    "# === Mostrar resultados ordenados ===\n",
    "results_df = pd.DataFrame(results).T.sort_values(by=\"RMSE mean\")\n",
    "print(results_df)"
   ]
  },
  {
   "cell_type": "markdown",
   "id": "16a3f5e6",
   "metadata": {},
   "source": [
    "| Modelo                     | RMSE medio | Observaciones clave                                                                     |\n",
    "| -------------------------- | ---------- | --------------------------------------------------------------------------------------- |\n",
    "| **Random Forest**          | 248M       | Mejor desempeño. Buen punto de partida.                                                 |\n",
    "| **XGBoost**                | 251M       | Muy cerca del RF, pero algo más costoso en entrenamiento.                               |\n",
    "| **LightGBM**               | 252M       | Similar a XGBoost, pero puede escalar mejor si el dataset crece.                        |\n",
    "| **KNN**                    | 334M       | Malo para alta dimensionalidad y regresión compleja. Lo esperado.                       |\n",
    "| **DecisionTree**           | 342M       | Muy limitado si no hay poda o boosting. Overfitting probable.                           |\n",
    "| **Ridge / Linear / Lasso** | 348M       | No capturan relaciones no lineales. Básicos.                                            |\n",
    "| **SVR**                    | **913M**   | Desastre. Escala mal, sensible al preprocesamiento y a la dimensionalidad. Inútil aquí. |\n",
    "\n",
    "\n",
    "Random Forest, XGBoost, LightGBM. Tienen diferencias menores en RMSE, pero son los que se llevarán a fases posteriores."
   ]
  },
  {
   "cell_type": "markdown",
   "id": "f71d7e53",
   "metadata": {},
   "source": [
    "## Importancia de variables"
   ]
  },
  {
   "cell_type": "code",
   "execution_count": 10,
   "id": "2568c0bf",
   "metadata": {},
   "outputs": [
    {
     "data": {
      "image/png": "[encoded data removed]",
      "text/plain": [
       "<Figure size 1000x600 with 1 Axes>"
      ]
     },
     "metadata": {},
     "output_type": "display_data"
    }
   ],
   "source": [
    "import matplotlib.pyplot as plt\n",
    "\n",
    "# === Cargar y preparar datos ===\n",
    "target = \"precio_venta\"\n",
    "\n",
    "# === Columnas con NaN aceptables ===\n",
    "nan_threshold = 0.05\n",
    "n_rows = len(df)\n",
    "na_ratio = df.isna().sum() / n_rows\n",
    "cols_to_use = na_ratio[na_ratio <= nan_threshold].index.tolist()\n",
    "if target in cols_to_use:\n",
    "    cols_to_use.remove(target)\n",
    "\n",
    "X = df[cols_to_use]\n",
    "y = df[target]\n",
    "\n",
    "categorical = X.select_dtypes(include=[\"object\", \"bool\"]).columns.tolist()\n",
    "numerical = X.select_dtypes(include=[\"number\"]).columns.tolist()\n",
    "\n",
    "# === Preprocesamiento con imputación ===\n",
    "numeric_pipeline = make_pipeline(SimpleImputer(strategy=\"mean\"), StandardScaler())\n",
    "categorical_pipeline = make_pipeline(SimpleImputer(strategy=\"most_frequent\"), OneHotEncoder(handle_unknown=\"ignore\"))\n",
    "\n",
    "preprocessor = ColumnTransformer([\n",
    "    (\"num\", numeric_pipeline, numerical),\n",
    "    (\"cat\", categorical_pipeline, categorical)\n",
    "])\n",
    "\n",
    "# === Entrenar modelo para extraer importancias ===\n",
    "model = make_pipeline(preprocessor, RandomForestRegressor(n_estimators=100, random_state=42))\n",
    "model.fit(X, y)\n",
    "\n",
    "# === Recuperar nombres de features ===\n",
    "# Paso 1: entrenar solo el preprocesador para ver qué columnas genera\n",
    "preprocessor.fit(X)\n",
    "\n",
    "num_features = numerical\n",
    "cat_features = model.named_steps['columntransformer'].named_transformers_['cat'].named_steps['onehotencoder'].get_feature_names_out(categorical)\n",
    "feature_names = np.concatenate([num_features, cat_features])\n",
    "\n",
    "# Paso 2: extraer importancias\n",
    "importances = model.named_steps['randomforestregressor'].feature_importances_\n",
    "\n",
    "# Paso 3: crear dataframe ordenado\n",
    "importance_df_rf = pd.DataFrame({\n",
    "    \"feature\": feature_names,\n",
    "    \"importance\": importances\n",
    "}).sort_values(by=\"importance\", ascending=False)\n",
    "\n",
    "# === Graficar top N\n",
    "top_n = 15\n",
    "top_features = importance_df_rf.head(top_n)\n",
    "\n",
    "plt.figure(figsize=(10, 6))\n",
    "plt.barh(top_features[\"feature\"][::-1], top_features[\"importance\"][::-1])\n",
    "plt.xlabel(\"Importancia\")\n",
    "plt.title(f\"Top {top_n} características más importantes (Random Forest)\")\n",
    "plt.tight_layout()\n",
    "plt.show()\n",
    "\n",
    "# === Exportar para referencia futura\n",
    "importance_df_rf.to_csv(\"importancia_variables_rf.csv\", index=False)\n"
   ]
  },
  {
   "cell_type": "code",
   "execution_count": 11,
   "id": "00f38fff",
   "metadata": {},
   "outputs": [
    {
     "name": "stdout",
     "output_type": "stream",
     "text": [
      "[LightGBM] [Info] Auto-choosing row-wise multi-threading, the overhead of testing was 0.000291 seconds.\n",
      "You can set `force_row_wise=true` to remove the overhead.\n",
      "And if memory is not enough, you can set `force_col_wise=true`.\n",
      "[LightGBM] [Info] Total Bins 804\n",
      "[LightGBM] [Info] Number of data points in the train set: 21895, number of used features: 10\n",
      "[LightGBM] [Info] Start training from score 990626093.247591\n"
     ]
    },
    {
     "name": "stderr",
     "output_type": "stream",
     "text": [
      "/Users/dickinson.arismendy/Workspace/personal/maestria-ia/indexador-py/.venv/lib/python3.10/site-packages/sklearn/utils/validation.py:2749: UserWarning: X does not have valid feature names, but LGBMRegressor was fitted with feature names\n",
      "  warnings.warn(\n"
     ]
    },
    {
     "name": "stdout",
     "output_type": "stream",
     "text": [
      "[LightGBM] [Info] Auto-choosing row-wise multi-threading, the overhead of testing was 0.000268 seconds.\n",
      "You can set `force_row_wise=true` to remove the overhead.\n",
      "And if memory is not enough, you can set `force_col_wise=true`.\n",
      "[LightGBM] [Info] Total Bins 802\n",
      "[LightGBM] [Info] Number of data points in the train set: 21895, number of used features: 10\n",
      "[LightGBM] [Info] Start training from score 991564042.054168\n"
     ]
    },
    {
     "name": "stderr",
     "output_type": "stream",
     "text": [
      "/Users/dickinson.arismendy/Workspace/personal/maestria-ia/indexador-py/.venv/lib/python3.10/site-packages/sklearn/utils/validation.py:2749: UserWarning: X does not have valid feature names, but LGBMRegressor was fitted with feature names\n",
      "  warnings.warn(\n"
     ]
    },
    {
     "name": "stdout",
     "output_type": "stream",
     "text": [
      "[LightGBM] [Info] Auto-choosing row-wise multi-threading, the overhead of testing was 0.000311 seconds.\n",
      "You can set `force_row_wise=true` to remove the overhead.\n",
      "And if memory is not enough, you can set `force_col_wise=true`.\n",
      "[LightGBM] [Info] Total Bins 805\n",
      "[LightGBM] [Info] Number of data points in the train set: 21895, number of used features: 10\n",
      "[LightGBM] [Info] Start training from score 994814345.362868\n"
     ]
    },
    {
     "name": "stderr",
     "output_type": "stream",
     "text": [
      "/Users/dickinson.arismendy/Workspace/personal/maestria-ia/indexador-py/.venv/lib/python3.10/site-packages/sklearn/utils/validation.py:2749: UserWarning: X does not have valid feature names, but LGBMRegressor was fitted with feature names\n",
      "  warnings.warn(\n"
     ]
    },
    {
     "name": "stdout",
     "output_type": "stream",
     "text": [
      "[LightGBM] [Info] Auto-choosing row-wise multi-threading, the overhead of testing was 0.000291 seconds.\n",
      "You can set `force_row_wise=true` to remove the overhead.\n",
      "And if memory is not enough, you can set `force_col_wise=true`.\n",
      "[LightGBM] [Info] Total Bins 805\n",
      "[LightGBM] [Info] Number of data points in the train set: 21895, number of used features: 10\n",
      "[LightGBM] [Info] Start training from score 994285948.907056\n"
     ]
    },
    {
     "name": "stderr",
     "output_type": "stream",
     "text": [
      "/Users/dickinson.arismendy/Workspace/personal/maestria-ia/indexador-py/.venv/lib/python3.10/site-packages/sklearn/utils/validation.py:2749: UserWarning: X does not have valid feature names, but LGBMRegressor was fitted with feature names\n",
      "  warnings.warn(\n"
     ]
    },
    {
     "name": "stdout",
     "output_type": "stream",
     "text": [
      "[LightGBM] [Info] Auto-choosing row-wise multi-threading, the overhead of testing was 0.000273 seconds.\n",
      "You can set `force_row_wise=true` to remove the overhead.\n",
      "And if memory is not enough, you can set `force_col_wise=true`.\n",
      "[LightGBM] [Info] Total Bins 805\n",
      "[LightGBM] [Info] Number of data points in the train set: 21896, number of used features: 10\n",
      "[LightGBM] [Info] Start training from score 992275620.753380\n"
     ]
    },
    {
     "name": "stderr",
     "output_type": "stream",
     "text": [
      "/Users/dickinson.arismendy/Workspace/personal/maestria-ia/indexador-py/.venv/lib/python3.10/site-packages/sklearn/utils/validation.py:2749: UserWarning: X does not have valid feature names, but LGBMRegressor was fitted with feature names\n",
      "  warnings.warn(\n"
     ]
    }
   ],
   "source": [
    "# === Cargar top variables ===\n",
    "important_vars = pd.read_csv(\"importancia_variables_rf.csv\")\n",
    "top_n = 14  # puedes cambiar a 10 si quieres\n",
    "top_features = important_vars[\"feature\"].head(top_n).tolist()\n",
    "\n",
    "# === Filtrar X con solo las top features (algunas pueden ser OneHot) ===\n",
    "# Nota: Si algunas variables categóricas aún no están en df (porque se codifican), separarlas manualmente\n",
    "# Para seguridad, partimos en dos: base features (antes de one-hot) y dummy features\n",
    "raw_columns = df.columns.tolist()\n",
    "base_features = [col for col in top_features if col in raw_columns]\n",
    "\n",
    "X_reducido = df[base_features]\n",
    "\n",
    "# Detectar columnas categóricas/numerical\n",
    "categorical = X_reducido.select_dtypes(include=[\"object\", \"bool\"]).columns.tolist()\n",
    "numerical = X_reducido.select_dtypes(include=[\"number\"]).columns.tolist()\n",
    "\n",
    "# Preprocesador con imputación\n",
    "preprocessor = ColumnTransformer([\n",
    "    (\"num\", make_pipeline(SimpleImputer(strategy=\"mean\"), StandardScaler()), numerical),\n",
    "    (\"cat\", make_pipeline(SimpleImputer(strategy=\"most_frequent\"), OneHotEncoder(handle_unknown=\"ignore\")), categorical)\n",
    "])\n",
    "\n",
    "# Modelos a comparar\n",
    "models = {\n",
    "    \"LinearRegression\": LinearRegression(),\n",
    "    \"Lasso\": Lasso(alpha=0.1, max_iter=10000),\n",
    "    \"Ridge\": Ridge(alpha=1.0),\n",
    "    \"KNN\": KNeighborsRegressor(n_neighbors=5),\n",
    "    \"DecisionTree\": DecisionTreeRegressor(random_state=42),\n",
    "    \"RandomForest\": RandomForestRegressor(n_estimators=100, random_state=42),\n",
    "    \"SVR\": SVR(C=1.0, epsilon=0.2),\n",
    "    \"XGBoost\": XGBRegressor(n_estimators=100, max_depth=6, learning_rate=0.1, random_state=42),\n",
    "    \"LightGBM\": LGBMRegressor(n_estimators=100, learning_rate=0.1, random_state=42)\n",
    "}\n",
    "\n",
    "# Validación cruzada\n",
    "cv = KFold(n_splits=5, shuffle=True, random_state=42)\n",
    "scoring = \"neg_root_mean_squared_error\"\n",
    "results = {}\n",
    "\n",
    "for name, model in models.items():\n",
    "    pipeline = make_pipeline(preprocessor, model)\n",
    "    scores = cross_val_score(pipeline, X_reducido, y, cv=cv, scoring=scoring)\n",
    "    rmse_scores = -scores\n",
    "    results[name] = {\n",
    "        \"RMSE mean\": np.mean(rmse_scores),\n",
    "        \"RMSE std\": np.std(rmse_scores)\n",
    "    }\n"
   ]
  },
  {
   "cell_type": "code",
   "execution_count": 12,
   "id": "28d7ac29",
   "metadata": {},
   "outputs": [
    {
     "name": "stdout",
     "output_type": "stream",
     "text": [
      "                     RMSE mean      RMSE std\n",
      "RandomForest      2.702876e+08  4.274089e+06\n",
      "XGBoost           2.777100e+08  4.631621e+06\n",
      "LightGBM          2.784431e+08  4.138465e+06\n",
      "KNN               3.402885e+08  1.654727e+06\n",
      "DecisionTree      3.726218e+08  4.320787e+06\n",
      "Lasso             3.825200e+08  3.591373e+06\n",
      "LinearRegression  3.825200e+08  3.591373e+06\n",
      "Ridge             3.825200e+08  3.591875e+06\n",
      "SVR               9.133333e+08  5.537079e+06\n"
     ]
    }
   ],
   "source": [
    "# Mostrar resultados\n",
    "results_df = pd.DataFrame(results).T.sort_values(by=\"RMSE mean\")\n",
    "print(results_df)"
   ]
  },
  {
   "cell_type": "code",
   "execution_count": 13,
   "id": "db8e9190",
   "metadata": {},
   "outputs": [
    {
     "data": {
      "image/png": "[encoded data removed]",
      "text/plain": [
       "<Figure size 1000x600 with 1 Axes>"
      ]
     },
     "metadata": {},
     "output_type": "display_data"
    }
   ],
   "source": [
    "from sklearn.inspection import permutation_importance\n",
    "from sklearn.model_selection import train_test_split\n",
    "\n",
    "# === Train / test split ===\n",
    "X_train, X_test, y_train, y_test = train_test_split(X, y, test_size=0.2, random_state=42)\n",
    "\n",
    "# === Definir columnas\n",
    "categorical = X.select_dtypes(include=[\"object\", \"bool\"]).columns.tolist()\n",
    "numerical = X.select_dtypes(include=[\"number\"]).columns.tolist()\n",
    "\n",
    "# === Preprocesamiento\n",
    "preprocessor = ColumnTransformer([\n",
    "    (\"num\", make_pipeline(SimpleImputer(strategy=\"mean\"), StandardScaler()), numerical),\n",
    "    (\"cat\", make_pipeline(SimpleImputer(strategy=\"most_frequent\"), OneHotEncoder(handle_unknown=\"ignore\")), categorical)\n",
    "])\n",
    "\n",
    "# === Modelo base\n",
    "pipeline = make_pipeline(\n",
    "    preprocessor,\n",
    "    RandomForestRegressor(n_estimators=100, random_state=42)\n",
    ")\n",
    "\n",
    "# === Entrenamiento\n",
    "pipeline.fit(X_train, y_train)\n",
    "\n",
    "# === Permutation Importance\n",
    "# Obtenemos el modelo ya entrenado\n",
    "rf = pipeline.named_steps[\"randomforestregressor\"]\n",
    "X_test_preprocessed = pipeline.named_steps[\"columntransformer\"].transform(X_test)\n",
    "X_test_preprocessed = X_test_preprocessed.toarray() \n",
    "\n",
    "# Extraer nombres de features codificados\n",
    "num_features = numerical\n",
    "cat_features = pipeline.named_steps['columntransformer'].named_transformers_['cat'].named_steps['onehotencoder'].get_feature_names_out(categorical)\n",
    "feature_names = np.concatenate([num_features, cat_features])\n",
    "\n",
    "# Correr la importancia\n",
    "result = permutation_importance(rf, X_test_preprocessed, y_test, n_repeats=10, random_state=42, scoring=\"neg_root_mean_squared_error\")\n",
    "\n",
    "# === Mostrar resultados ordenados\n",
    "importance_df_permutation = pd.DataFrame({\n",
    "    \"feature\": feature_names,\n",
    "    \"importance_mean\": result.importances_mean,\n",
    "    \"importance_std\": result.importances_std\n",
    "}).sort_values(by=\"importance_mean\", ascending=False)\n",
    "\n",
    "# === Graficar top N\n",
    "top_n = 15\n",
    "plt.figure(figsize=(10, 6))\n",
    "plt.barh(importance_df_permutation[\"feature\"].head(top_n)[::-1], importance_df_permutation[\"importance_mean\"].head(top_n)[::-1])\n",
    "plt.xlabel(\"Disminución del rendimiento (RMSE)\")\n",
    "plt.title(f\"Top {top_n} variables según Permutation Importance\")\n",
    "plt.tight_layout()\n",
    "plt.show()\n",
    "\n",
    "# === Guardar resultado\n",
    "importance_df_permutation.to_csv(\"perm_importance_rf.csv\", index=False)\n"
   ]
  },
  {
   "cell_type": "code",
   "execution_count": 14,
   "id": "7285c3a4",
   "metadata": {},
   "outputs": [
    {
     "data": {
      "text/html": [
       "<div>\n",
       "<style scoped>\n",
       "    .dataframe tbody tr th:only-of-type {\n",
       "        vertical-align: middle;\n",
       "    }\n",
       "\n",
       "    .dataframe tbody tr th {\n",
       "        vertical-align: top;\n",
       "    }\n",
       "\n",
       "    .dataframe thead th {\n",
       "        text-align: right;\n",
       "    }\n",
       "</style>\n",
       "<table border=\"1\" class=\"dataframe\">\n",
       "  <thead>\n",
       "    <tr style=\"text-align: right;\">\n",
       "      <th></th>\n",
       "      <th>feature</th>\n",
       "      <th>importance_rf</th>\n",
       "      <th>importance_perm</th>\n",
       "      <th>importance_std</th>\n",
       "      <th>rank_rf</th>\n",
       "      <th>rank_perm</th>\n",
       "      <th>combined_score</th>\n",
       "    </tr>\n",
       "  </thead>\n",
       "  <tbody>\n",
       "    <tr>\n",
       "      <th>0</th>\n",
       "      <td>area</td>\n",
       "      <td>7.889262e-01</td>\n",
       "      <td>6.009144e+08</td>\n",
       "      <td>7.363569e+06</td>\n",
       "      <td>1.0</td>\n",
       "      <td>1.0</td>\n",
       "      <td>2.0</td>\n",
       "    </tr>\n",
       "    <tr>\n",
       "      <th>1</th>\n",
       "      <td>latitud</td>\n",
       "      <td>5.588413e-02</td>\n",
       "      <td>1.144079e+08</td>\n",
       "      <td>3.273819e+06</td>\n",
       "      <td>2.0</td>\n",
       "      <td>2.0</td>\n",
       "      <td>4.0</td>\n",
       "    </tr>\n",
       "    <tr>\n",
       "      <th>2</th>\n",
       "      <td>longitud</td>\n",
       "      <td>3.104254e-02</td>\n",
       "      <td>4.304853e+07</td>\n",
       "      <td>3.280793e+06</td>\n",
       "      <td>3.0</td>\n",
       "      <td>5.0</td>\n",
       "      <td>8.0</td>\n",
       "    </tr>\n",
       "    <tr>\n",
       "      <th>3</th>\n",
       "      <td>antiguedad_ENTRE 0 Y 5 ANOS</td>\n",
       "      <td>2.964596e-02</td>\n",
       "      <td>5.568720e+07</td>\n",
       "      <td>4.989072e+06</td>\n",
       "      <td>4.0</td>\n",
       "      <td>4.0</td>\n",
       "      <td>8.0</td>\n",
       "    </tr>\n",
       "    <tr>\n",
       "      <th>4</th>\n",
       "      <td>antiguedad_MAS DE 20 ANOS</td>\n",
       "      <td>2.032640e-02</td>\n",
       "      <td>4.061439e+07</td>\n",
       "      <td>2.446283e+06</td>\n",
       "      <td>5.0</td>\n",
       "      <td>6.0</td>\n",
       "      <td>11.0</td>\n",
       "    </tr>\n",
       "    <tr>\n",
       "      <th>...</th>\n",
       "      <td>...</td>\n",
       "      <td>...</td>\n",
       "      <td>...</td>\n",
       "      <td>...</td>\n",
       "      <td>...</td>\n",
       "      <td>...</td>\n",
       "      <td>...</td>\n",
       "    </tr>\n",
       "    <tr>\n",
       "      <th>117</th>\n",
       "      <td>sector_QUINTA PAREDES</td>\n",
       "      <td>2.622075e-09</td>\n",
       "      <td>0.000000e+00</td>\n",
       "      <td>0.000000e+00</td>\n",
       "      <td>119.0</td>\n",
       "      <td>94.0</td>\n",
       "      <td>213.0</td>\n",
       "    </tr>\n",
       "    <tr>\n",
       "      <th>118</th>\n",
       "      <td>sector_DOCE DE OCTUBRE</td>\n",
       "      <td>1.565445e-09</td>\n",
       "      <td>0.000000e+00</td>\n",
       "      <td>0.000000e+00</td>\n",
       "      <td>120.0</td>\n",
       "      <td>94.0</td>\n",
       "      <td>214.0</td>\n",
       "    </tr>\n",
       "    <tr>\n",
       "      <th>119</th>\n",
       "      <td>sector_CAPELLANIA</td>\n",
       "      <td>8.218304e-10</td>\n",
       "      <td>0.000000e+00</td>\n",
       "      <td>0.000000e+00</td>\n",
       "      <td>121.0</td>\n",
       "      <td>94.0</td>\n",
       "      <td>215.0</td>\n",
       "    </tr>\n",
       "    <tr>\n",
       "      <th>120</th>\n",
       "      <td>sector_KENNEDY CENTRAL</td>\n",
       "      <td>4.991703e-10</td>\n",
       "      <td>0.000000e+00</td>\n",
       "      <td>0.000000e+00</td>\n",
       "      <td>122.0</td>\n",
       "      <td>94.0</td>\n",
       "      <td>216.0</td>\n",
       "    </tr>\n",
       "    <tr>\n",
       "      <th>121</th>\n",
       "      <td>sector_LAS MARGARITAS</td>\n",
       "      <td>7.261715e-09</td>\n",
       "      <td>-2.276944e+01</td>\n",
       "      <td>0.000000e+00</td>\n",
       "      <td>108.0</td>\n",
       "      <td>118.0</td>\n",
       "      <td>226.0</td>\n",
       "    </tr>\n",
       "  </tbody>\n",
       "</table>\n",
       "<p>122 rows × 7 columns</p>\n",
       "</div>"
      ],
      "text/plain": [
       "                         feature  importance_rf  importance_perm  \\\n",
       "0                           area   7.889262e-01     6.009144e+08   \n",
       "1                        latitud   5.588413e-02     1.144079e+08   \n",
       "2                       longitud   3.104254e-02     4.304853e+07   \n",
       "3    antiguedad_ENTRE 0 Y 5 ANOS   2.964596e-02     5.568720e+07   \n",
       "4      antiguedad_MAS DE 20 ANOS   2.032640e-02     4.061439e+07   \n",
       "..                           ...            ...              ...   \n",
       "117        sector_QUINTA PAREDES   2.622075e-09     0.000000e+00   \n",
       "118       sector_DOCE DE OCTUBRE   1.565445e-09     0.000000e+00   \n",
       "119            sector_CAPELLANIA   8.218304e-10     0.000000e+00   \n",
       "120       sector_KENNEDY CENTRAL   4.991703e-10     0.000000e+00   \n",
       "121        sector_LAS MARGARITAS   7.261715e-09    -2.276944e+01   \n",
       "\n",
       "     importance_std  rank_rf  rank_perm  combined_score  \n",
       "0      7.363569e+06      1.0        1.0             2.0  \n",
       "1      3.273819e+06      2.0        2.0             4.0  \n",
       "2      3.280793e+06      3.0        5.0             8.0  \n",
       "3      4.989072e+06      4.0        4.0             8.0  \n",
       "4      2.446283e+06      5.0        6.0            11.0  \n",
       "..              ...      ...        ...             ...  \n",
       "117    0.000000e+00    119.0       94.0           213.0  \n",
       "118    0.000000e+00    120.0       94.0           214.0  \n",
       "119    0.000000e+00    121.0       94.0           215.0  \n",
       "120    0.000000e+00    122.0       94.0           216.0  \n",
       "121    0.000000e+00    108.0      118.0           226.0  \n",
       "\n",
       "[122 rows x 7 columns]"
      ]
     },
     "execution_count": 14,
     "metadata": {},
     "output_type": "execute_result"
    }
   ],
   "source": [
    "# Renombrar columnas para unir\n",
    "importance_df_rf = importance_df_rf.rename(columns={\"importance\": \"importance_rf\"})\n",
    "importance_df_permutation = importance_df_permutation.rename(columns={\"importance_mean\": \"importance_perm\"})\n",
    "\n",
    "# Unir los dos DataFrames por nombre de la variable\n",
    "df_combined = pd.merge(importance_df_rf, importance_df_permutation, on=\"feature\", how=\"inner\")\n",
    "\n",
    "# Calcular ranking de cada tipo (menor es mejor)\n",
    "df_combined[\"rank_rf\"] = df_combined[\"importance_rf\"].rank(ascending=False)\n",
    "df_combined[\"rank_perm\"] = df_combined[\"importance_perm\"].rank(ascending=False)\n",
    "\n",
    "# Score combinado: suma de los dos rankings\n",
    "df_combined[\"combined_score\"] = df_combined[\"rank_rf\"] + df_combined[\"rank_perm\"]\n",
    "\n",
    "# Ordenar por el ranking combinado\n",
    "df_combined_sorted = df_combined.sort_values(by=\"combined_score\").reset_index(drop=True)\n",
    "\n",
    "df_combined_sorted"
   ]
  },
  {
   "cell_type": "code",
   "execution_count": 15,
   "id": "8cc6ea5f",
   "metadata": {},
   "outputs": [
    {
     "data": {
      "image/png": "[encoded data removed]",
      "text/plain": [
       "<Figure size 1000x600 with 1 Axes>"
      ]
     },
     "metadata": {},
     "output_type": "display_data"
    }
   ],
   "source": [
    "\n",
    "# Filtra las top-N variables según el ranking combinado\n",
    "top_n = 20\n",
    "df_plot = df_combined_sorted.head(top_n)\n",
    "\n",
    "plt.figure(figsize=(10, 6))\n",
    "plt.scatter(df_plot[\"rank_rf\"], df_plot[\"rank_perm\"], color=\"blue\")\n",
    "\n",
    "# Etiquetas de las variables en el gráfico\n",
    "for _, row in df_plot.iterrows():\n",
    "    plt.text(row[\"rank_rf\"], row[\"rank_perm\"], row[\"feature\"], fontsize=9, ha='right')\n",
    "\n",
    "plt.xlabel(\"Ranking por Random Forest\")\n",
    "plt.ylabel(\"Ranking por Permutation Importance\")\n",
    "plt.title(f\"Comparación de Rankings (Top {top_n} variables)\")\n",
    "plt.grid(True)\n",
    "plt.tight_layout()\n",
    "plt.show()"
   ]
  },
  {
   "cell_type": "markdown",
   "id": "037f76e0",
   "metadata": {},
   "source": [
    "### Análisis Comparativo de Rankings de Importancia de Variables\n",
    "Con el fin de evaluar la robustez y consistencia de la selección de variables, se compararon dos métodos diferentes de estimación de importancia: Feature Importance de Random Forest (basado en reducción de impureza) y Permutation Importance (basado en impacto sobre el error del modelo).\n",
    "\n",
    "La Figura muestra la comparación entre ambos rankings para las 20 variables más relevantes según un puntaje combinado. Cada punto representa una variable, posicionada en función de su ranking en Random Forest (eje X) y Permutation Importance (eje Y). Un alineamiento diagonal indica consenso entre ambos métodos.\n",
    "\n",
    "#### Hallazgos principales:\n",
    "Variables con alta consistencia:\n",
    "Variables como area, latitud, estrato, longitud, parqueaderos, antiguedad_MAS DE 20 ANOS y antiguedad_ENTRE 0 Y 5 ANOS se ubicaron cerca de la diagonal, lo que indica un alto consenso entre ambos métodos. Estas variables pueden considerarse estables y confiables como predictoras del precio de venta.\n",
    "\n",
    "#### Discrepancias notables:\n",
    "\n",
    "banos presenta una puntuación alta en Random Forest pero una mucho menor en Permutation Importance. Esto sugiere que aunque reduce impureza en los árboles, su impacto real sobre el error del modelo es más limitado.\n",
    "\n",
    "Por el contrario, variables como estado_REMODELADO, sector_SANTA BARBARA y conjunto_cerrado tienen baja importancia para Random Forest pero una importancia relativamente más alta cuando se evalúa el impacto real en el error del modelo. Esto indica que pueden tener efectos que se diluyen en un bosque, pero que afectan de forma concreta la predicción final.\n",
    "\n",
    "#### Variables estructurales vs contextuales:\n",
    "Las variables estructurales (como area, habitaciones, banos, antiguedad) tienden a mostrar mayor consistencia, mientras que las variables contextuales (sector, estado, amenidades) muestran mayor variabilidad entre métodos. Esto podría estar relacionado con su carácter categórico o con efectos más localizados.\n",
    "\n",
    "#### Implicaciones para el modelo:\n",
    "* Priorizar variables con alta consistencia como area, estrato, latitud, antiguedad y parqueaderos en el entrenamiento y en la interfaz de usuario de la aplicación.\n",
    "* Evaluar con más detalle las variables con discrepancia, especialmente aquellas con alta Permutation Importance, para no descartarlas prematuramente.\n",
    "* Este análisis valida la necesidad de usar múltiples técnicas de selección de variables para evitar sesgos del modelo subyacente."
   ]
  },
  {
   "cell_type": "code",
   "execution_count": 20,
   "id": "58e78b39",
   "metadata": {},
   "outputs": [
    {
     "name": "stdout",
     "output_type": "stream",
     "text": [
      "[LightGBM] [Info] Auto-choosing row-wise multi-threading, the overhead of testing was 0.000997 seconds.\n",
      "You can set `force_row_wise=true` to remove the overhead.\n",
      "And if memory is not enough, you can set `force_col_wise=true`.\n",
      "[LightGBM] [Info] Total Bins 892\n",
      "[LightGBM] [Info] Number of data points in the train set: 21895, number of used features: 55\n",
      "[LightGBM] [Info] Start training from score 20.388814\n"
     ]
    },
    {
     "name": "stderr",
     "output_type": "stream",
     "text": [
      "/Users/dickinson.arismendy/Workspace/personal/maestria-ia/indexador-py/.venv/lib/python3.10/site-packages/sklearn/utils/validation.py:2749: UserWarning: X does not have valid feature names, but LGBMRegressor was fitted with feature names\n",
      "  warnings.warn(\n"
     ]
    },
    {
     "name": "stdout",
     "output_type": "stream",
     "text": [
      "[LightGBM] [Info] Auto-choosing row-wise multi-threading, the overhead of testing was 0.000859 seconds.\n",
      "You can set `force_row_wise=true` to remove the overhead.\n",
      "And if memory is not enough, you can set `force_col_wise=true`.\n",
      "[LightGBM] [Info] Total Bins 890\n",
      "[LightGBM] [Info] Number of data points in the train set: 21895, number of used features: 55\n",
      "[LightGBM] [Info] Start training from score 20.390847\n"
     ]
    },
    {
     "name": "stderr",
     "output_type": "stream",
     "text": [
      "/Users/dickinson.arismendy/Workspace/personal/maestria-ia/indexador-py/.venv/lib/python3.10/site-packages/sklearn/utils/validation.py:2749: UserWarning: X does not have valid feature names, but LGBMRegressor was fitted with feature names\n",
      "  warnings.warn(\n"
     ]
    },
    {
     "name": "stdout",
     "output_type": "stream",
     "text": [
      "[LightGBM] [Info] Auto-choosing row-wise multi-threading, the overhead of testing was 0.000970 seconds.\n",
      "You can set `force_row_wise=true` to remove the overhead.\n",
      "And if memory is not enough, you can set `force_col_wise=true`.\n",
      "[LightGBM] [Info] Total Bins 893\n",
      "[LightGBM] [Info] Number of data points in the train set: 21895, number of used features: 55\n",
      "[LightGBM] [Info] Start training from score 20.394298\n"
     ]
    },
    {
     "name": "stderr",
     "output_type": "stream",
     "text": [
      "/Users/dickinson.arismendy/Workspace/personal/maestria-ia/indexador-py/.venv/lib/python3.10/site-packages/sklearn/utils/validation.py:2749: UserWarning: X does not have valid feature names, but LGBMRegressor was fitted with feature names\n",
      "  warnings.warn(\n"
     ]
    },
    {
     "name": "stdout",
     "output_type": "stream",
     "text": [
      "[LightGBM] [Info] Auto-choosing row-wise multi-threading, the overhead of testing was 0.001194 seconds.\n",
      "You can set `force_row_wise=true` to remove the overhead.\n",
      "And if memory is not enough, you can set `force_col_wise=true`.\n",
      "[LightGBM] [Info] Total Bins 895\n",
      "[LightGBM] [Info] Number of data points in the train set: 21895, number of used features: 56\n",
      "[LightGBM] [Info] Start training from score 20.395125\n"
     ]
    },
    {
     "name": "stderr",
     "output_type": "stream",
     "text": [
      "/Users/dickinson.arismendy/Workspace/personal/maestria-ia/indexador-py/.venv/lib/python3.10/site-packages/sklearn/utils/validation.py:2749: UserWarning: X does not have valid feature names, but LGBMRegressor was fitted with feature names\n",
      "  warnings.warn(\n"
     ]
    },
    {
     "name": "stdout",
     "output_type": "stream",
     "text": [
      "[LightGBM] [Info] Auto-choosing row-wise multi-threading, the overhead of testing was 0.000975 seconds.\n",
      "You can set `force_row_wise=true` to remove the overhead.\n",
      "And if memory is not enough, you can set `force_col_wise=true`.\n",
      "[LightGBM] [Info] Total Bins 891\n",
      "[LightGBM] [Info] Number of data points in the train set: 21896, number of used features: 54\n",
      "[LightGBM] [Info] Start training from score 20.391533\n"
     ]
    },
    {
     "name": "stderr",
     "output_type": "stream",
     "text": [
      "/Users/dickinson.arismendy/Workspace/personal/maestria-ia/indexador-py/.venv/lib/python3.10/site-packages/sklearn/utils/validation.py:2749: UserWarning: X does not have valid feature names, but LGBMRegressor was fitted with feature names\n",
      "  warnings.warn(\n"
     ]
    }
   ],
   "source": [
    "import pandas as pd\n",
    "import numpy as np\n",
    "from sklearn.model_selection import cross_val_predict, KFold\n",
    "from sklearn.pipeline import make_pipeline\n",
    "from sklearn.compose import ColumnTransformer\n",
    "from sklearn.preprocessing import StandardScaler, OneHotEncoder, FunctionTransformer\n",
    "from sklearn.impute import SimpleImputer\n",
    "from sklearn.linear_model import LinearRegression, Ridge, Lasso\n",
    "from sklearn.tree import DecisionTreeRegressor\n",
    "from sklearn.ensemble import RandomForestRegressor\n",
    "from sklearn.neighbors import KNeighborsRegressor\n",
    "from sklearn.svm import SVR\n",
    "from xgboost import XGBRegressor\n",
    "from lightgbm import LGBMRegressor\n",
    "from sklearn.metrics import mean_squared_error, mean_absolute_error, r2_score\n",
    "\n",
    "final_features = [\n",
    "    'area',\n",
    "    'estrato',\n",
    "    'banos',\n",
    "    'habitaciones',\n",
    "    'parqueaderos',\n",
    "    'latitud',\n",
    "    'longitud',\n",
    "    'antiguedad',\n",
    "    'estado',\n",
    "    'conjunto_cerrado',\n",
    "    'sector'\n",
    "]\n",
    "X = df[final_features].copy()\n",
    "y = np.log1p(df[\"precio_venta\"])  # log-transformación del target\n",
    "\n",
    "# === Aplicar log a 'area'\n",
    "X[\"area\"] = np.log1p(X[\"area\"])\n",
    "\n",
    "# === Definir columnas\n",
    "categorical = X.select_dtypes(include=[\"object\", \"bool\"]).columns.tolist()\n",
    "numerical = X.select_dtypes(include=[\"number\"]).columns.tolist()\n",
    "\n",
    "# === Preprocesador\n",
    "preprocessor = ColumnTransformer([\n",
    "    (\"num\", make_pipeline(SimpleImputer(strategy=\"mean\"), StandardScaler()), numerical),\n",
    "    (\"cat\", make_pipeline(SimpleImputer(strategy=\"most_frequent\"), OneHotEncoder(handle_unknown=\"ignore\")), categorical)\n",
    "])\n",
    "\n",
    "# === Modelos a probar\n",
    "models = {\n",
    "    \"LinearRegression\": LinearRegression(),\n",
    "    \"Ridge\": Ridge(alpha=1.0),\n",
    "    \"Lasso\": Lasso(alpha=0.1),\n",
    "    \"KNN\": KNeighborsRegressor(),\n",
    "    \"DecisionTree\": DecisionTreeRegressor(random_state=42),\n",
    "    \"RandomForest\": RandomForestRegressor(n_estimators=100, random_state=42),\n",
    "    \"SVR\": SVR(C=1.0),\n",
    "    \"XGBoost\": XGBRegressor(n_estimators=100, max_depth=6, learning_rate=0.1, random_state=42),\n",
    "    \"LightGBM\": LGBMRegressor(n_estimators=100, learning_rate=0.1, random_state=42)\n",
    "}\n",
    "\n",
    "# === Validación cruzada\n",
    "cv = KFold(n_splits=5, shuffle=True, random_state=42)\n",
    "results = {}\n",
    "\n",
    "for name, model in models.items():\n",
    "    pipeline = make_pipeline(preprocessor, model)\n",
    "    \n",
    "    # Cross-validated predictions\n",
    "    y_pred_log = cross_val_predict(pipeline, X, y, cv=cv)\n",
    "    \n",
    "    # Transformar de vuelta a escala original\n",
    "    y_true = np.expm1(y)\n",
    "    y_pred = np.expm1(y_pred_log)\n",
    "\n",
    "    # Métricas en escala real\n",
    "    rmse = np.sqrt(mean_squared_error(y_true, y_pred))\n",
    "    mae = mean_absolute_error(y_true, y_pred)\n",
    "    r2 = r2_score(y_true, y_pred)\n",
    "    mape = np.mean(np.abs((y_true - y_pred) / y_true)) * 100\n",
    "\n",
    "    results[name] = {\n",
    "        \"RMSE\": rmse,\n",
    "        \"MAE\": mae,\n",
    "        \"R²\": r2,\n",
    "        \"MAPE (%)\": mape\n",
    "    }\n"
   ]
  },
  {
   "cell_type": "code",
   "execution_count": 21,
   "id": "a9065c18",
   "metadata": {},
   "outputs": [
    {
     "name": "stdout",
     "output_type": "stream",
     "text": [
      "                          RMSE           MAE        R²   MAPE (%)\n",
      "RandomForest      2.532540e+08  1.301873e+08  0.914219  11.698518\n",
      "LightGBM          2.632744e+08  1.430092e+08  0.907296  13.028896\n",
      "XGBoost           2.638903e+08  1.427927e+08  0.906862  12.990245\n",
      "SVR               2.826325e+08  1.511734e+08  0.893162  13.457383\n",
      "KNN               3.261040e+08  1.761235e+08  0.857770  15.979364\n",
      "DecisionTree      3.443630e+08  1.693841e+08  0.841397  15.363815\n",
      "LinearRegression  3.691266e+08  1.719784e+08  0.817766  15.543310\n",
      "Ridge             3.695473e+08  1.720104e+08  0.817350  15.544342\n",
      "Lasso             5.059558e+08  2.484982e+08  0.657623  23.477596\n"
     ]
    }
   ],
   "source": [
    "# === Mostrar resultados\n",
    "results_df = pd.DataFrame(results).T.sort_values(by=\"RMSE\")\n",
    "print(results_df)"
   ]
  },
  {
   "cell_type": "code",
   "execution_count": 22,
   "id": "eb003d44",
   "metadata": {},
   "outputs": [
    {
     "name": "stdout",
     "output_type": "stream",
     "text": [
      "\n",
      "=== Métricas del modelo final (RandomForest, hold-out set) ===\n",
      "RMSE                : $249,501,354\n",
      "MAE                 : $129,126,618\n",
      "R²                  : 0.9158\n",
      "Error 80 percentil  : $185,437,305\n",
      "Error 95 percentil  : $519,497,429\n",
      "Precio mínimo pred. : $87,811,155\n",
      "Precio máximo pred. : $5,086,636,074\n",
      "=====================================================\n",
      "\n"
     ]
    }
   ],
   "source": [
    "# === Cargar y preparar datos ===\n",
    "final_features = [\n",
    "    'area',\n",
    "    'estrato',\n",
    "    'banos',\n",
    "    'habitaciones',\n",
    "    'parqueaderos',\n",
    "    'latitud',\n",
    "    'longitud',\n",
    "    'antiguedad',\n",
    "    'estado',\n",
    "    'conjunto_cerrado',\n",
    "    'sector'\n",
    "]\n",
    "\n",
    "X = df[final_features].copy()\n",
    "y = np.log1p(df[\"precio_venta\"])  # log-transformación del target\n",
    "X[\"area\"] = np.log1p(X[\"area\"])   # log-transformación del área\n",
    "\n",
    "# === Split final con hold-out (20%) ===\n",
    "X_train, X_holdout, y_train, y_holdout = train_test_split(\n",
    "    X, y, test_size=0.2, random_state=42\n",
    ")\n",
    "\n",
    "# === Preprocesamiento\n",
    "categorical = X.select_dtypes(include=[\"object\", \"bool\"]).columns.tolist()\n",
    "numerical = X.select_dtypes(include=[\"number\"]).columns.tolist()\n",
    "\n",
    "preprocessor = ColumnTransformer([\n",
    "    (\"num\", make_pipeline(SimpleImputer(strategy=\"mean\"), StandardScaler()), numerical),\n",
    "    (\"cat\", make_pipeline(SimpleImputer(strategy=\"most_frequent\"), OneHotEncoder(handle_unknown=\"ignore\")), categorical)\n",
    "])\n",
    "\n",
    "# === Modelo final\n",
    "model = RandomForestRegressor(n_estimators=100, random_state=42)\n",
    "pipeline = make_pipeline(preprocessor, model)\n",
    "\n",
    "# === Entrenamiento\n",
    "pipeline.fit(X_train, y_train)\n",
    "\n",
    "# === Predicción y evaluación en hold-out\n",
    "y_pred_log = pipeline.predict(X_holdout)\n",
    "y_pred = np.expm1(y_pred_log)\n",
    "y_real = np.expm1(y_holdout)\n",
    "\n",
    "# === Métricas personalizadas\n",
    "errores = y_pred - y_real\n",
    "abs_errores = np.abs(errores)\n",
    "\n",
    "info_modelo = {\n",
    "    \"rmse\": float(mean_squared_error(y_real, y_pred) ** 0.5),\n",
    "    \"mae\": float(mean_absolute_error(y_real, y_pred)),\n",
    "    \"r2\": float(r2_score(y_real, y_pred)),\n",
    "    \"error_80_percentil\": float(np.percentile(abs_errores, 80)),\n",
    "    \"error_95_percentil\": float(np.percentile(abs_errores, 95)),\n",
    "    \"min_predicho\": float(y_pred.min()),\n",
    "    \"max_predicho\": float(y_pred.max())\n",
    "}\n",
    "\n",
    "# === Mostrar métricas del modelo final en hold-out ===\n",
    "print(\"\\n=== Métricas del modelo final (RandomForest, hold-out set) ===\")\n",
    "print(f\"RMSE                : ${info_modelo['rmse']:,.0f}\")\n",
    "print(f\"MAE                 : ${info_modelo['mae']:,.0f}\")\n",
    "print(f\"R²                  : {info_modelo['r2']:.4f}\")\n",
    "print(f\"Error 80 percentil  : ${info_modelo['error_80_percentil']:,.0f}\")\n",
    "print(f\"Error 95 percentil  : ${info_modelo['error_95_percentil']:,.0f}\")\n",
    "print(f\"Precio mínimo pred. : ${info_modelo['min_predicho']:,.0f}\")\n",
    "print(f\"Precio máximo pred. : ${info_modelo['max_predicho']:,.0f}\")\n",
    "print(\"=====================================================\\n\")"
   ]
  },
  {
   "cell_type": "code",
   "execution_count": 23,
   "id": "c55ebf3b",
   "metadata": {},
   "outputs": [
    {
     "name": "stdout",
     "output_type": "stream",
     "text": [
      "✅ Pipeline exportado a '../data/models/randomforest_model_base.pkl'\n"
     ]
    }
   ],
   "source": [
    "import os\n",
    "import cloudpickle\n",
    "\n",
    "# === Exportar modelo\n",
    "columns = X_train.columns.tolist()\n",
    "os.makedirs(\"../data/models\", exist_ok=True)\n",
    "file_name = \"randomforest_model_base.pkl\"\n",
    "model_path = f\"../data/models/{file_name}\"\n",
    "\n",
    "with open(model_path, \"wb\") as f:\n",
    "    cloudpickle.dump({\n",
    "        \"model\": pipeline,\n",
    "        \"info\": info_modelo,\n",
    "        \"columns\": columns\n",
    "    }, f)\n",
    "\n",
    "print(f\"✅ Pipeline exportado a '{model_path}'\")"
   ]
  },
  {
   "cell_type": "markdown",
   "id": "f4183bbe",
   "metadata": {},
   "source": [
    "### *Modelo base con variables seleccionadas y transformación logarítmica*\n",
    "\n",
    "Con el objetivo de establecer una línea base sólida para evaluar el impacto del enriquecimiento de datos, se construyó un modelo predictivo utilizando únicamente un subconjunto reducido de variables seleccionadas por su relevancia y consistencia, tanto estadística como semántica. Este modelo servirá como punto de comparación directa frente a las versiones enriquecidas del dataset.\n",
    "\n",
    "#### Selección de variables\n",
    "La selección de variables se realizó mediante un enfoque mixto que combina criterios estadísticos, impacto predictivo y relevancia semántica. Inicialmente, se calcularon dos rankings independientes de importancia de variables:\n",
    "\n",
    "* Feature Importance de Random Forest: basado en la reducción de impureza (Gini).\n",
    "* Permutation Importance: basado en el aumento del error (RMSE) cuando se perturba cada variable individualmente.\n",
    "\n",
    "Ambos rankings fueron normalizados y combinados mediante la suma de sus posiciones relativas, generando un score combinado que prioriza variables importantes en ambos métodos. A continuación, se seleccionaron las variables que:\n",
    "\n",
    "Estuvieron dentro del top 15 del ranking combinado,\n",
    "\n",
    "Mostraron consistencia entre métodos (ubicación cercana a la diagonal en la comparación de rankings),\n",
    "\n",
    "Y tienen interpretación clara y directa para el usuario (por ejemplo, área, estrato, número de baños, etc.).\n",
    "\n",
    "En total, se seleccionaron 11 variables finales, entre estructurales, geográficas y contextuales. La Figura 1 muestra el gráfico de comparación entre rankings y permite visualizar la coherencia entre métodos. En la Figura 2 se muestra el ranking combinado ordenado por importancia total.\n",
    "\n",
    "Las variables utilizadas en esta fase fueron:\n",
    "\n",
    "* `area`\n",
    "* `estrato`\n",
    "* `banos`\n",
    "* `habitaciones`\n",
    "* `parqueaderos`\n",
    "* `latitud`\n",
    "* `longitud`\n",
    "* `antiguedad`\n",
    "* `estado` (variable categórica completa)\n",
    "* `conjunto_cerrado`\n",
    "* `sector` (variable categórica completa)\n",
    "\n",
    "#### Transformación logarítmica\n",
    "\n",
    "Se aplicó una transformación logarítmica a la variable dependiente `precio_venta` y a la variable `area` usando `log1p(x)` para estabilizar la varianza y mitigar el efecto de valores extremos. Esta transformación es común en problemas de predicción de precios inmobiliarios debido a que estas variables suelen presentar una distribución sesgada hacia la derecha. Además, permite que el modelo se enfoque en la predicción proporcional (ej. “un 10% de error”) en lugar de diferencias absolutas, lo cual es más interpretable para la mayoría de usuarios.\n",
    "\n",
    "#### Evaluación de modelos\n",
    "\n",
    "Se compararon múltiples algoritmos de regresión utilizando validación cruzada estratificada con 5 particiones (`KFold`, con barajado aleatorio y semilla fija). Los modelos evaluados fueron:\n",
    "\n",
    "* Regresión Lineal\n",
    "* Ridge\n",
    "* Lasso\n",
    "* KNN Regressor\n",
    "* Árbol de Decisión\n",
    "* Random Forest\n",
    "* Soporte Vectorial (SVR)\n",
    "* XGBoost\n",
    "* LightGBM\n",
    "\n",
    "Para cada modelo se calcularon las siguientes métricas sobre la predicción des-transformada (`exp(model output)`) para conservar la interpretabilidad en unidades monetarias:\n",
    "\n",
    "* **RMSE** (Root Mean Squared Error): métrica principal, ya que penaliza errores grandes y está en la misma escala que el precio. Es especialmente útil en problemas donde es crítico minimizar desviaciones extremas.\n",
    "* **MAE** (Mean Absolute Error): para interpretar errores promedio reales.\n",
    "* **R²** (Coeficiente de determinación): para medir capacidad explicativa global.\n",
    "* **MAPE** (Error porcentual absoluto medio): útil para comparar desempeño relativo.\n",
    "\n",
    "#### Resultados y modelo base\n",
    "\n",
    "El modelo con mejor desempeño fue Random Forest, con un RMSE de 253 millones de pesos, un MAE de 130 millones y un R² de 0.91. Este resultado valida que incluso con un conjunto reducido de variables y sin enriquecimiento geoespacial o contextual, el modelo tiene una capacidad explicativa alta. Este modelo se tomará como referencia base para evaluar si la incorporación de nuevas variables derivadas de fuentes externas (como OSM o datos abiertos) mejora la predicción de manera significativa.\n"
   ]
  }
 ],
 "metadata": {
  "kernelspec": {
   "display_name": "indexador-py (3.10.17)",
   "language": "python",
   "name": "python3"
  },
  "language_info": {
   "codemirror_mode": {
    "name": "ipython",
    "version": 3
   },
   "file_extension": ".py",
   "mimetype": "text/x-python",
   "name": "python",
   "nbconvert_exporter": "python",
   "pygments_lexer": "ipython3",
   "version": "3.10.17"
  }
 },
 "nbformat": 4,
 "nbformat_minor": 5
}
