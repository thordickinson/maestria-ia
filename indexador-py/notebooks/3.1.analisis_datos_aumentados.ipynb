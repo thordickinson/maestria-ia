{
 "cells": [
  {
   "cell_type": "code",
   "execution_count": 1,
   "id": "860f4db7",
   "metadata": {},
   "outputs": [
    {
     "name": "stderr",
     "output_type": "stream",
     "text": [
      "/Users/dickinson.arismendy/Workspace/personal/maestria-ia/indexador-py/.venv/lib/python3.10/site-packages/tqdm/auto.py:21: TqdmWarning: IProgress not found. Please update jupyter and ipywidgets. See https://ipywidgets.readthedocs.io/en/stable/user_install.html\n",
      "  from .autonotebook import tqdm as notebook_tqdm\n"
     ]
    }
   ],
   "source": [
    "import pandas as pd\n",
    "import numpy as np\n",
    "import matplotlib.pyplot as plt\n",
    "import seaborn as sns\n",
    "\n",
    "from sklearn.model_selection import train_test_split\n",
    "from sklearn.preprocessing import OneHotEncoder\n",
    "from sklearn.impute import SimpleImputer\n",
    "from sklearn.compose import ColumnTransformer\n",
    "from sklearn.pipeline import Pipeline\n",
    "from sklearn.linear_model import LassoCV\n",
    "from sklearn.metrics import mean_squared_error, mean_absolute_error, r2_score\n",
    "from xgboost import XGBRegressor, plot_importance\n",
    "\n",
    "import shap"
   ]
  },
  {
   "cell_type": "code",
   "execution_count": null,
   "id": "e1ac1c98",
   "metadata": {},
   "outputs": [],
   "source": [
    "\n",
    "\n",
    "# 📄 Leer datos\n",
    "df = pd.read_csv(\"data/aptos_bogota_enriched.csv\")\n",
    "\n",
    "# 🎯 Variable objetivo\n",
    "y = df[\"precio_venta\"]\n",
    "\n",
    "# 📈 Variables\n",
    "num_features = [\"area\", \"habitaciones\", \"banos\", \"administracion\", \"parqueaderos\", \"estrato\", \"latitud\", \"longitud\"]\n",
    "cat_features = [\"sector\", \"estado\", \"antiguedad\"]\n",
    "binary_features = [\"alarma\", \"ascensor\", \"conjunto_cerrado\", \"gimnasio\", \"piscina\", \"zona_de_bbq\"]\n",
    "enrichment_features = [col for col in df.columns if any(prefix in col for prefix in [\n",
    "    \"education_\", \"healthcare_\", \"retail_access_\", \"dining_and_entertainment_\", \n",
    "    \"accommodation_\", \"parks_and_recreation_\", \"infrastructure_services_\", \"cultural_amenities_\"\n",
    "])]\n",
    "\n",
    "X_baseline = df[num_features + cat_features + binary_features]\n",
    "X_enriched = df[num_features + enrichment_features + cat_features + binary_features]\n"
   ]
  },
  {
   "cell_type": "code",
   "execution_count": null,
   "id": "330b6d05",
   "metadata": {},
   "outputs": [],
   "source": [
    "plt.figure(figsize=(12,10))\n",
    "corr = df[enrichment_features + ['precio_venta']].corr()\n",
    "sns.heatmap(corr, cmap='coolwarm', center=0)\n",
    "plt.title(\"Correlaciones entre enrichment features y precio_venta\")\n",
    "plt.show()\n",
    "\n",
    "plt.figure(figsize=(12,10))\n",
    "corr_enrichment = df[enrichment_features].corr()\n",
    "sns.heatmap(corr_enrichment, cmap='coolwarm', center=0)\n",
    "plt.title(\"Correlaciones internas de enrichment features\")\n",
    "plt.show()\n"
   ]
  }
 ],
 "metadata": {
  "kernelspec": {
   "display_name": "indexador-py",
   "language": "python",
   "name": "python3"
  },
  "language_info": {
   "codemirror_mode": {
    "name": "ipython",
    "version": 3
   },
   "file_extension": ".py",
   "mimetype": "text/x-python",
   "name": "python",
   "nbconvert_exporter": "python",
   "pygments_lexer": "ipython3",
   "version": "3.10.17"
  }
 },
 "nbformat": 4,
 "nbformat_minor": 5
}
