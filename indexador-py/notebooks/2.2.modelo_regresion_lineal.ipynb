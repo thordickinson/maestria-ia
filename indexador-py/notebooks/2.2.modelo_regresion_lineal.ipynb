{
 "cells": [
  {
   "cell_type": "markdown",
   "id": "9bffdf0d",
   "metadata": {},
   "source": [
    "# Modelo de regresión lineal\n",
    "\n",
    "En este notebook vamos a probar y optimizar el modelo de regresión lineal"
   ]
  },
  {
   "cell_type": "code",
   "execution_count": 14,
   "id": "d4b71491",
   "metadata": {},
   "outputs": [],
   "source": [
    "import pandas as pd\n",
    "import numpy as np\n",
    "from sklearn.model_selection import train_test_split, cross_val_score, KFold\n",
    "from sklearn.linear_model import LinearRegression\n",
    "from sklearn.metrics import mean_squared_error, root_mean_squared_error, mean_absolute_error, r2_score\n",
    "from sklearn.pipeline import Pipeline\n",
    "from sklearn.compose import ColumnTransformer\n",
    "from sklearn.preprocessing import OneHotEncoder, StandardScaler"
   ]
  },
  {
   "cell_type": "code",
   "execution_count": 8,
   "id": "a57e5728",
   "metadata": {},
   "outputs": [
    {
     "data": {
      "text/html": [
       "<div>\n",
       "<style scoped>\n",
       "    .dataframe tbody tr th:only-of-type {\n",
       "        vertical-align: middle;\n",
       "    }\n",
       "\n",
       "    .dataframe tbody tr th {\n",
       "        vertical-align: top;\n",
       "    }\n",
       "\n",
       "    .dataframe thead th {\n",
       "        text-align: right;\n",
       "    }\n",
       "</style>\n",
       "<table border=\"1\" class=\"dataframe\">\n",
       "  <thead>\n",
       "    <tr style=\"text-align: right;\">\n",
       "      <th></th>\n",
       "      <th>area</th>\n",
       "      <th>habitaciones</th>\n",
       "      <th>banos</th>\n",
       "      <th>administracion</th>\n",
       "      <th>parqueaderos</th>\n",
       "      <th>estrato</th>\n",
       "      <th>sector</th>\n",
       "      <th>estado</th>\n",
       "    </tr>\n",
       "  </thead>\n",
       "  <tbody>\n",
       "    <tr>\n",
       "      <th>434</th>\n",
       "      <td>48.0</td>\n",
       "      <td>2.0</td>\n",
       "      <td>1.0</td>\n",
       "      <td>105000.0</td>\n",
       "      <td>0.0</td>\n",
       "      <td>3.0</td>\n",
       "      <td>ALTOS DE SUBA Y CERROS DE SAN JORGE</td>\n",
       "      <td>USADO</td>\n",
       "    </tr>\n",
       "    <tr>\n",
       "      <th>435</th>\n",
       "      <td>109.0</td>\n",
       "      <td>3.0</td>\n",
       "      <td>2.0</td>\n",
       "      <td>247000.0</td>\n",
       "      <td>1.0</td>\n",
       "      <td>4.0</td>\n",
       "      <td>NORMANDIA</td>\n",
       "      <td>USADO</td>\n",
       "    </tr>\n",
       "    <tr>\n",
       "      <th>436</th>\n",
       "      <td>51.0</td>\n",
       "      <td>2.0</td>\n",
       "      <td>1.0</td>\n",
       "      <td>307000.0</td>\n",
       "      <td>0.0</td>\n",
       "      <td>6.0</td>\n",
       "      <td>SANTA BARBARA</td>\n",
       "      <td>USADO</td>\n",
       "    </tr>\n",
       "    <tr>\n",
       "      <th>437</th>\n",
       "      <td>230.0</td>\n",
       "      <td>4.0</td>\n",
       "      <td>3.0</td>\n",
       "      <td>530000.0</td>\n",
       "      <td>2.0</td>\n",
       "      <td>4.0</td>\n",
       "      <td>NICOLAS DE FEDERMAN</td>\n",
       "      <td>USADO</td>\n",
       "    </tr>\n",
       "    <tr>\n",
       "      <th>438</th>\n",
       "      <td>90.0</td>\n",
       "      <td>3.0</td>\n",
       "      <td>3.0</td>\n",
       "      <td>600000.0</td>\n",
       "      <td>1.0</td>\n",
       "      <td>5.0</td>\n",
       "      <td>COLINA Y ALREDEDORES</td>\n",
       "      <td>USADO</td>\n",
       "    </tr>\n",
       "  </tbody>\n",
       "</table>\n",
       "</div>"
      ],
      "text/plain": [
       "      area  habitaciones  banos  administracion  parqueaderos  estrato  \\\n",
       "434   48.0           2.0    1.0        105000.0           0.0      3.0   \n",
       "435  109.0           3.0    2.0        247000.0           1.0      4.0   \n",
       "436   51.0           2.0    1.0        307000.0           0.0      6.0   \n",
       "437  230.0           4.0    3.0        530000.0           2.0      4.0   \n",
       "438   90.0           3.0    3.0        600000.0           1.0      5.0   \n",
       "\n",
       "                                  sector estado  \n",
       "434  ALTOS DE SUBA Y CERROS DE SAN JORGE  USADO  \n",
       "435                            NORMANDIA  USADO  \n",
       "436                        SANTA BARBARA  USADO  \n",
       "437                  NICOLAS DE FEDERMAN  USADO  \n",
       "438                 COLINA Y ALREDEDORES  USADO  "
      ]
     },
     "execution_count": 8,
     "metadata": {},
     "output_type": "execute_result"
    }
   ],
   "source": [
    "# Partimos del dataset imputado\n",
    "df = pd.read_csv(\"../data/aptos_bogota_imputed.csv\")  # Usa aquí tu archivo completo\n",
    "\n",
    "# Variables a usar\n",
    "numeric_features = ['area', 'habitaciones', 'banos', 'administracion', 'parqueaderos', 'estrato']\n",
    "categorical_features = ['sector', 'estado']\n",
    "\n",
    "# Eliminar valores faltantes en columnas seleccionadas\n",
    "df = df[numeric_features + categorical_features + ['precio_venta']].dropna()\n",
    "\n",
    "X = df[numeric_features + categorical_features]\n",
    "y = df['precio_venta']\n",
    "\n",
    "X.head()"
   ]
  },
  {
   "cell_type": "code",
   "execution_count": 9,
   "id": "9b13b836",
   "metadata": {},
   "outputs": [],
   "source": [
    "# Preprocesador\n",
    "preprocessor = ColumnTransformer(transformers=[\n",
    "    ('num', StandardScaler(), numeric_features),\n",
    "    ('cat', OneHotEncoder(handle_unknown='ignore'), categorical_features)\n",
    "])\n",
    "\n",
    "# Pipeline completo\n",
    "model = Pipeline(steps=[\n",
    "    ('preprocessor', preprocessor),\n",
    "    ('regressor', LinearRegression())\n",
    "])"
   ]
  },
  {
   "cell_type": "code",
   "execution_count": 10,
   "id": "46468486",
   "metadata": {},
   "outputs": [
    {
     "name": "stdout",
     "output_type": "stream",
     "text": [
      "===== Validación Cruzada (k=5) =====\n",
      "R² promedio      : 0.8116\n",
      "RMSE promedio    : 371,659,795.77\n",
      "MAE promedio     : 227,903,659.25\n"
     ]
    }
   ],
   "source": [
    "# === Validación cruzada (k=5) ===\n",
    "cv = KFold(n_splits=5, shuffle=True, random_state=42)\n",
    "scores = cross_val_score(model, X, y, scoring='r2', cv=cv)\n",
    "rmse_scores = -1 * cross_val_score(model, X, y, scoring='neg_root_mean_squared_error', cv=cv)\n",
    "mae_scores = -1 * cross_val_score(model, X, y, scoring='neg_mean_absolute_error', cv=cv)\n",
    "\n",
    "print(\"===== Validación Cruzada (k=5) =====\")\n",
    "print(f\"R² promedio      : {scores.mean():.4f}\")\n",
    "print(f\"RMSE promedio    : {rmse_scores.mean():,.2f}\")\n",
    "print(f\"MAE promedio     : {mae_scores.mean():,.2f}\")\n",
    "\n"
   ]
  },
  {
   "cell_type": "code",
   "execution_count": 15,
   "id": "dcaa297e",
   "metadata": {},
   "outputs": [
    {
     "name": "stdout",
     "output_type": "stream",
     "text": [
      "\n",
      "===== Evaluación en Hold-Out =====\n",
      "R²  : 0.8191\n",
      "RMSE: 363,392,998.32\n",
      "MAE : 225,901,561.80\n"
     ]
    }
   ],
   "source": [
    "# === Evaluación final con hold-out ===\n",
    "X_train, X_test, y_train, y_test = train_test_split(X, y, test_size=0.2, random_state=42)\n",
    "\n",
    "model.fit(X_train, y_train)\n",
    "y_pred = model.predict(X_test)\n",
    "\n",
    "rmse_holdout = root_mean_squared_error(y_test, y_pred)\n",
    "mae_holdout = mean_absolute_error(y_test, y_pred)\n",
    "r2_holdout = r2_score(y_test, y_pred)\n",
    "\n",
    "print(\"\\n===== Evaluación en Hold-Out =====\")\n",
    "print(f\"R²  : {r2_holdout:.4f}\")\n",
    "print(f\"RMSE: {rmse_holdout:,.2f}\")\n",
    "print(f\"MAE : {mae_holdout:,.2f}\")"
   ]
  }
 ],
 "metadata": {
  "kernelspec": {
   "display_name": "indexador-py",
   "language": "python",
   "name": "python3"
  },
  "language_info": {
   "codemirror_mode": {
    "name": "ipython",
    "version": 3
   },
   "file_extension": ".py",
   "mimetype": "text/x-python",
   "name": "python",
   "nbconvert_exporter": "python",
   "pygments_lexer": "ipython3",
   "version": "3.10.17"
  }
 },
 "nbformat": 4,
 "nbformat_minor": 5
}
